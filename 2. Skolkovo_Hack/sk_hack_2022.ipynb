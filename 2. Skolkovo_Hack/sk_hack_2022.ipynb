{
  "cells": [
    {
      "cell_type": "markdown",
      "metadata": {},
      "source": [
        "# Интеллектуальный анализ работы хранилища данных на основании обработки логов\n",
        "\n",
        "## Задача \n",
        "- Найти высоконагруженные “горячие” объекты хранилища данных и спрогнозировать потенциальный рост нагрузки.\n",
        "\n",
        "## Описание задачи:\n",
        "На основе предоставленных логов хранилища необходимо разработать алгоритм обработки данных и прогнозирования будущей нагрузки. Важно частью задачи является выявление и распределение объектов хранилища по различным критериям.\n",
        "\n",
        "В качестве исходных данных предоставлен набор логов, которые содержат запросы к базе данных GreenPlum. Нужно предложить метод быстрой обработки этих данных. Выделению отдельных объектов, к которым чаще всего обращаются пользователи. Выявления самых “тяжелыx” и самых “горячих” объектов. Прогнозирование нагрузки на систему в разные временные отрезки."
      ]
    },
    {
      "cell_type": "code",
      "execution_count": 1,
      "metadata": {
        "colab": {
          "base_uri": "https://localhost:8080/"
        },
        "id": "tKDIzbBbeKzy",
        "outputId": "92971650-3af3-4be6-98d8-a3f9f09bfee6"
      },
      "outputs": [],
      "source": [
        "#!pip install catboost"
      ]
    },
    {
      "cell_type": "code",
      "execution_count": 2,
      "metadata": {
        "id": "wOhXF2jnWJMN"
      },
      "outputs": [],
      "source": [
        "import os\n",
        "import pandas as pd\n",
        "import numpy as np\n",
        "from collections import Counter, OrderedDict\n",
        "\n",
        "from catboost import CatBoostRegressor, cv, Pool\n",
        "from sklearn.model_selection import train_test_split\n",
        "from sklearn.feature_extraction.text import CountVectorizer\n",
        "from scipy.sparse import hstack\n",
        "from sklearn.metrics import mean_absolute_error as mae\n",
        "\n",
        "import matplotlib.pyplot as plt\n",
        "import seaborn as sns\n",
        "sns.set(style='darkgrid', font_scale=1.3)\n",
        "\n",
        "pd.options.display.float_format = '{:,.2f}'.format\n",
        "pd.options.mode.chained_assignment = None"
      ]
    },
    {
      "cell_type": "code",
      "execution_count": 3,
      "metadata": {
        "id": "i3sBaLAvWRP8"
      },
      "outputs": [
        {
          "name": "stdout",
          "output_type": "stream",
          "text": [
            "<class 'pandas.core.frame.DataFrame'>\n",
            "RangeIndex: 641138 entries, 0 to 641137\n",
            "Data columns (total 3 columns):\n",
            " #   Column   Non-Null Count   Dtype \n",
            "---  ------   --------------   ----- \n",
            " 0   rn       641138 non-null  int64 \n",
            " 1   loguser  641138 non-null  object\n",
            " 2   query    641138 non-null  object\n",
            "dtypes: int64(1), object(2)\n",
            "memory usage: 14.7+ MB\n"
          ]
        },
        {
          "data": {
            "text/html": [
              "<div>\n",
              "<style scoped>\n",
              "    .dataframe tbody tr th:only-of-type {\n",
              "        vertical-align: middle;\n",
              "    }\n",
              "\n",
              "    .dataframe tbody tr th {\n",
              "        vertical-align: top;\n",
              "    }\n",
              "\n",
              "    .dataframe thead th {\n",
              "        text-align: right;\n",
              "    }\n",
              "</style>\n",
              "<table border=\"1\" class=\"dataframe\">\n",
              "  <thead>\n",
              "    <tr style=\"text-align: right;\">\n",
              "      <th></th>\n",
              "      <th>rn</th>\n",
              "      <th>loguser</th>\n",
              "      <th>query</th>\n",
              "    </tr>\n",
              "  </thead>\n",
              "  <tbody>\n",
              "    <tr>\n",
              "      <th>0</th>\n",
              "      <td>2530</td>\n",
              "      <td>etl_2048</td>\n",
              "      <td>from tbl_157224,join tbl_157223</td>\n",
              "    </tr>\n",
              "    <tr>\n",
              "      <th>1</th>\n",
              "      <td>5658</td>\n",
              "      <td>etl_2048</td>\n",
              "      <td>from tbl_195789,join tbl_195791</td>\n",
              "    </tr>\n",
              "  </tbody>\n",
              "</table>\n",
              "</div>"
            ],
            "text/plain": [
              "     rn   loguser                            query\n",
              "0  2530  etl_2048  from tbl_157224,join tbl_157223\n",
              "1  5658  etl_2048  from tbl_195789,join tbl_195791"
            ]
          },
          "metadata": {},
          "output_type": "display_data"
        },
        {
          "name": "stdout",
          "output_type": "stream",
          "text": [
            "----------------------------------------\n",
            "<class 'pandas.core.frame.DataFrame'>\n",
            "RangeIndex: 630078 entries, 0 to 630077\n",
            "Data columns (total 4 columns):\n",
            " #   Column    Non-Null Count   Dtype \n",
            "---  ------    --------------   ----- \n",
            " 0   rn        630078 non-null  int64 \n",
            " 1   loguser   630078 non-null  object\n",
            " 2   query     630078 non-null  object\n",
            " 3   duration  557929 non-null  object\n",
            "dtypes: int64(1), object(3)\n",
            "memory usage: 19.2+ MB\n"
          ]
        },
        {
          "data": {
            "text/html": [
              "<div>\n",
              "<style scoped>\n",
              "    .dataframe tbody tr th:only-of-type {\n",
              "        vertical-align: middle;\n",
              "    }\n",
              "\n",
              "    .dataframe tbody tr th {\n",
              "        vertical-align: top;\n",
              "    }\n",
              "\n",
              "    .dataframe thead th {\n",
              "        text-align: right;\n",
              "    }\n",
              "</style>\n",
              "<table border=\"1\" class=\"dataframe\">\n",
              "  <thead>\n",
              "    <tr style=\"text-align: right;\">\n",
              "      <th></th>\n",
              "      <th>rn</th>\n",
              "      <th>loguser</th>\n",
              "      <th>query</th>\n",
              "      <th>duration</th>\n",
              "    </tr>\n",
              "  </thead>\n",
              "  <tbody>\n",
              "    <tr>\n",
              "      <th>0</th>\n",
              "      <td>16493642</td>\n",
              "      <td>etl_528</td>\n",
              "      <td>from tbl_111329</td>\n",
              "      <td>duration: 240.851 ms</td>\n",
              "    </tr>\n",
              "    <tr>\n",
              "      <th>1</th>\n",
              "      <td>12761109</td>\n",
              "      <td>etl_528</td>\n",
              "      <td>from tbl_127353</td>\n",
              "      <td>duration: 2165.935 ms</td>\n",
              "    </tr>\n",
              "  </tbody>\n",
              "</table>\n",
              "</div>"
            ],
            "text/plain": [
              "         rn  loguser            query               duration\n",
              "0  16493642  etl_528  from tbl_111329   duration: 240.851 ms\n",
              "1  12761109  etl_528  from tbl_127353  duration: 2165.935 ms"
            ]
          },
          "execution_count": 3,
          "metadata": {},
          "output_type": "execute_result"
        }
      ],
      "source": [
        "# Откроем файлы по неделям\n",
        "def path_open(name, pth1, pth2):\n",
        "    if os.path.exists(pth1):\n",
        "        name = pd.read_csv(pth1)\n",
        "    elif os.path.exists(pth2):\n",
        "        name = pd.read_csv(pth2)\n",
        "    else:\n",
        "        print('Something is wrong')\n",
        "        \n",
        "path_open('wk1', 'log_week_end.csv', \n",
        "          'D:\\IT\\Hackatones\\Skolkovo\\data\\log_week_end.csv'\n",
        "         )\n",
        "path_open('wk2', 'log_week_2_end.csv', \n",
        "          'D:\\IT\\Hackatones\\Skolkovo\\data\\log_week_2_end.csv'\n",
        "         )\n",
        "\n",
        "wk1, wk2 = (\n",
        "    pd.read_csv('D:\\IT\\Hackatones\\Skolkovo\\data\\log_week_end.csv'),\n",
        "    pd.read_csv('D:\\IT\\Hackatones\\Skolkovo\\data\\log_week_2_end.csv')\n",
        ")\n",
        "\n",
        "wk1.info()\n",
        "display(wk1.head(2))\n",
        "print('----------------------------------------')\n",
        "wk2.info()\n",
        "wk2.head(2)"
      ]
    },
    {
      "cell_type": "code",
      "execution_count": 4,
      "metadata": {
        "colab": {
          "base_uri": "https://localhost:8080/"
        },
        "id": "TDNRwI4JWUOM",
        "outputId": "bbf696ae-d367-4aae-993a-8b1d711623b1"
      },
      "outputs": [
        {
          "data": {
            "text/plain": [
              "((641138, 3), (630078, 4))"
            ]
          },
          "execution_count": 4,
          "metadata": {},
          "output_type": "execute_result"
        }
      ],
      "source": [
        "wk1.shape, wk2.shape"
      ]
    },
    {
      "cell_type": "code",
      "execution_count": 5,
      "metadata": {},
      "outputs": [
        {
          "data": {
            "text/plain": [
              "<AxesSubplot:title={'center':'Данные за вторую неделю'}, ylabel='Frequency'>"
            ]
          },
          "execution_count": 5,
          "metadata": {},
          "output_type": "execute_result"
        },
        {
          "data": {
            "image/png": "[encoded data removed]",
            "text/plain": [
              "<Figure size 1080x504 with 1 Axes>"
            ]
          },
          "metadata": {},
          "output_type": "display_data"
        },
        {
          "data": {
            "image/png": "[encoded data removed]",
            "text/plain": [
              "<Figure size 1080x504 with 1 Axes>"
            ]
          },
          "metadata": {},
          "output_type": "display_data"
        }
      ],
      "source": [
        "# Посмотрим данные за первую неделю\n",
        "wk1.plot(title='Данные за первую неделю', kind='hist', grid=True, bins=30, figsize=(15, 7))\n",
        "\n",
        "# Посмотрим данные за вторую неделю\n",
        "wk2.plot(title='Данные за вторую неделю', kind='hist', grid=True, bins=30, figsize=(15, 7))"
      ]
    },
    {
      "cell_type": "markdown",
      "metadata": {
        "id": "JJlsSqRHKm4x"
      },
      "source": [
        "## Высоконагруженные объекты\n",
        "- большие по количеству"
      ]
    },
    {
      "cell_type": "code",
      "execution_count": 6,
      "metadata": {
        "id": "LWZ1ukWsWheq"
      },
      "outputs": [],
      "source": [
        "# Создадим функцию, которая выделит номера таблиц и посчитает количество запросов из столбца query\n",
        "def table_counter(data:pd.Series):\n",
        "  mylist = []\n",
        "  data = data['query'].str.replace('[^0-9,]', '', regex=True).str.lower()\n",
        "  data = data.str.split(',').to_list()\n",
        "\n",
        "  for a in range(len(data)):\n",
        "      for b in range (len(data[a])):\n",
        "          mylist.append(data[a][b])\n",
        "  return mylist"
      ]
    },
    {
      "cell_type": "code",
      "execution_count": 7,
      "metadata": {
        "id": "LQGPI37CWY2Q"
      },
      "outputs": [],
      "source": [
        "# Получим список\n",
        "tables_list = table_counter(wk1) + table_counter(wk2)\n",
        "\n",
        "# Подсчет количества повторений элементов в последовательности.\n",
        "tables_cnt_dict = Counter(tables_list)\n",
        "\n",
        "# Отсортируем по убыванию\n",
        "tables_cnt_dict = sorted(tables_cnt_dict.items(), key=lambda x: x[1], reverse=True)"
      ]
    },
    {
      "cell_type": "markdown",
      "metadata": {},
      "source": [
        "## Топ 10 \"горячих таблиц\""
      ]
    },
    {
      "cell_type": "code",
      "execution_count": 8,
      "metadata": {},
      "outputs": [
        {
          "data": {
            "text/html": [
              "<div>\n",
              "<style scoped>\n",
              "    .dataframe tbody tr th:only-of-type {\n",
              "        vertical-align: middle;\n",
              "    }\n",
              "\n",
              "    .dataframe tbody tr th {\n",
              "        vertical-align: top;\n",
              "    }\n",
              "\n",
              "    .dataframe thead th {\n",
              "        text-align: right;\n",
              "    }\n",
              "</style>\n",
              "<table border=\"1\" class=\"dataframe\">\n",
              "  <thead>\n",
              "    <tr style=\"text-align: right;\">\n",
              "      <th></th>\n",
              "      <th>tables</th>\n",
              "      <th>frequency_of_use</th>\n",
              "    </tr>\n",
              "  </thead>\n",
              "  <tbody>\n",
              "    <tr>\n",
              "      <th>0</th>\n",
              "      <td>7207</td>\n",
              "      <td>55626</td>\n",
              "    </tr>\n",
              "    <tr>\n",
              "      <th>1</th>\n",
              "      <td>11022</td>\n",
              "      <td>55606</td>\n",
              "    </tr>\n",
              "    <tr>\n",
              "      <th>2</th>\n",
              "      <td>33595</td>\n",
              "      <td>38653</td>\n",
              "    </tr>\n",
              "    <tr>\n",
              "      <th>3</th>\n",
              "      <td>33623</td>\n",
              "      <td>33795</td>\n",
              "    </tr>\n",
              "    <tr>\n",
              "      <th>4</th>\n",
              "      <td>33570</td>\n",
              "      <td>17160</td>\n",
              "    </tr>\n",
              "    <tr>\n",
              "      <th>5</th>\n",
              "      <td>27182</td>\n",
              "      <td>14341</td>\n",
              "    </tr>\n",
              "    <tr>\n",
              "      <th>6</th>\n",
              "      <td>14714</td>\n",
              "      <td>11623</td>\n",
              "    </tr>\n",
              "    <tr>\n",
              "      <th>7</th>\n",
              "      <td>20007</td>\n",
              "      <td>11498</td>\n",
              "    </tr>\n",
              "    <tr>\n",
              "      <th>8</th>\n",
              "      <td>211513</td>\n",
              "      <td>9602</td>\n",
              "    </tr>\n",
              "    <tr>\n",
              "      <th>9</th>\n",
              "      <td>33583</td>\n",
              "      <td>7432</td>\n",
              "    </tr>\n",
              "  </tbody>\n",
              "</table>\n",
              "</div>"
            ],
            "text/plain": [
              "   tables  frequency_of_use\n",
              "0    7207             55626\n",
              "1   11022             55606\n",
              "2   33595             38653\n",
              "3   33623             33795\n",
              "4   33570             17160\n",
              "5   27182             14341\n",
              "6   14714             11623\n",
              "7   20007             11498\n",
              "8  211513              9602\n",
              "9   33583              7432"
            ]
          },
          "execution_count": 8,
          "metadata": {},
          "output_type": "execute_result"
        }
      ],
      "source": [
        "# Топ 10 горячих- высоконагруженных обеъктов\n",
        "hot = pd.DataFrame(tables_cnt_dict, columns=['tables', 'frequency_of_use'])[:10]\n",
        "hot"
      ]
    },
    {
      "cell_type": "code",
      "execution_count": 9,
      "metadata": {},
      "outputs": [
        {
          "data": {
            "image/png": "[encoded data removed]",
            "text/plain": [
              "<Figure size 1080x648 with 1 Axes>"
            ]
          },
          "metadata": {},
          "output_type": "display_data"
        },
        {
          "name": "stdout",
          "output_type": "stream",
          "text": [
            "За две недели максимальное количество использования таблиц у тройки:\n",
            " таблица \"7207\"- 55626 раз,\n",
            " таблица \"11022\"- 55606 раз,\n",
            " таблица \"33595\"- 38653 раз.\n"
          ]
        }
      ],
      "source": [
        "# Построим график\n",
        "plt.figure(figsize=(15, 9))\n",
        "sns.barplot(data=hot, x=\"tables\", y=\"frequency_of_use\")\n",
        "plt.title(\"Топ 10 горячих- высоконагруженных объектов\")\n",
        "plt.ylabel('Количество использования таблиц')\n",
        "plt.xlabel('Наименование таблиц')\n",
        "plt.show()\n",
        "print('За две недели максимальное количество использования таблиц у тройки:\\n таблица \"{}\"- {} раз,\\n таблица \"{}\"- {} раз,\\n таблица \"{}\"- {} раз.'\n",
        ".format(\n",
        "    hot.iloc[hot['frequency_of_use'].idxmax()]['tables'], hot['frequency_of_use'].max(), \n",
        "    hot.iloc[1]['tables'], hot.iloc[1]['frequency_of_use'], \n",
        "    hot.iloc[2]['tables'], hot.iloc[2]['frequency_of_use'])\n",
        "    )"
      ]
    },
    {
      "cell_type": "markdown",
      "metadata": {
        "id": "xsyAU6NMKtu2"
      },
      "source": [
        "## Тяжелые объекты\n",
        "- большие по длительности"
      ]
    },
    {
      "cell_type": "code",
      "execution_count": 10,
      "metadata": {
        "id": "WafcgcoMt_BR"
      },
      "outputs": [
        {
          "name": "stdout",
          "output_type": "stream",
          "text": [
            "<class 'pandas.core.frame.DataFrame'>\n",
            "Int64Index: 557929 entries, 0 to 630077\n",
            "Data columns (total 7 columns):\n",
            " #   Column        Non-Null Count   Dtype  \n",
            "---  ------        --------------   -----  \n",
            " 0   rn            557929 non-null  int64  \n",
            " 1   loguser       557929 non-null  object \n",
            " 2   query         557929 non-null  object \n",
            " 3   duration      557929 non-null  object \n",
            " 4   time_target   557929 non-null  float64\n",
            " 5   tables        557929 non-null  object \n",
            " 6   tables_count  557929 non-null  int64  \n",
            "dtypes: float64(1), int64(2), object(4)\n",
            "memory usage: 34.1+ MB\n"
          ]
        },
        {
          "data": {
            "text/html": [
              "<div>\n",
              "<style scoped>\n",
              "    .dataframe tbody tr th:only-of-type {\n",
              "        vertical-align: middle;\n",
              "    }\n",
              "\n",
              "    .dataframe tbody tr th {\n",
              "        vertical-align: top;\n",
              "    }\n",
              "\n",
              "    .dataframe thead th {\n",
              "        text-align: right;\n",
              "    }\n",
              "</style>\n",
              "<table border=\"1\" class=\"dataframe\">\n",
              "  <thead>\n",
              "    <tr style=\"text-align: right;\">\n",
              "      <th></th>\n",
              "      <th>rn</th>\n",
              "      <th>loguser</th>\n",
              "      <th>query</th>\n",
              "      <th>duration</th>\n",
              "      <th>time_target</th>\n",
              "      <th>tables</th>\n",
              "      <th>tables_count</th>\n",
              "    </tr>\n",
              "  </thead>\n",
              "  <tbody>\n",
              "    <tr>\n",
              "      <th>0</th>\n",
              "      <td>16493642</td>\n",
              "      <td>etl_528</td>\n",
              "      <td>from tbl_111329</td>\n",
              "      <td>duration: 240.851 ms</td>\n",
              "      <td>240.85</td>\n",
              "      <td>111329</td>\n",
              "      <td>1</td>\n",
              "    </tr>\n",
              "    <tr>\n",
              "      <th>1</th>\n",
              "      <td>12761109</td>\n",
              "      <td>etl_528</td>\n",
              "      <td>from tbl_127353</td>\n",
              "      <td>duration: 2165.935 ms</td>\n",
              "      <td>2,165.93</td>\n",
              "      <td>127353</td>\n",
              "      <td>1</td>\n",
              "    </tr>\n",
              "  </tbody>\n",
              "</table>\n",
              "</div>"
            ],
            "text/plain": [
              "         rn  loguser            query               duration  time_target  \\\n",
              "0  16493642  etl_528  from tbl_111329   duration: 240.851 ms       240.85   \n",
              "1  12761109  etl_528  from tbl_127353  duration: 2165.935 ms     2,165.93   \n",
              "\n",
              "   tables  tables_count  \n",
              "0  111329             1  \n",
              "1  127353             1  "
            ]
          },
          "execution_count": 10,
          "metadata": {},
          "output_type": "execute_result"
        }
      ],
      "source": [
        "# Вытащили цифры длительности\n",
        "wk2['time_target'] = wk2['duration'].str.replace('[^0-9.]', '', regex=True).astype('float')\n",
        "\n",
        "# Вытащили номера таблиц\n",
        "wk2['tables'] = wk2['query'].str.replace('[^0-9,]', '', regex=True).str.lower()\n",
        "\n",
        "# Разделили списки таблиц по запятой, посчитали\n",
        "wk2['tables_count'] = wk2['tables'].str.split(',').apply(len)\n",
        "\n",
        "# выдает False когда есть пропуск\n",
        "tables_time = wk2[wk2['time_target'].notna()]\n",
        "tables_time.info()\n",
        "tables_time.head(2)"
      ]
    },
    {
      "cell_type": "code",
      "execution_count": 11,
      "metadata": {
        "id": "RT6JhZDV2wkl"
      },
      "outputs": [
        {
          "data": {
            "text/html": [
              "<div>\n",
              "<style scoped>\n",
              "    .dataframe tbody tr th:only-of-type {\n",
              "        vertical-align: middle;\n",
              "    }\n",
              "\n",
              "    .dataframe tbody tr th {\n",
              "        vertical-align: top;\n",
              "    }\n",
              "\n",
              "    .dataframe thead th {\n",
              "        text-align: right;\n",
              "    }\n",
              "</style>\n",
              "<table border=\"1\" class=\"dataframe\">\n",
              "  <thead>\n",
              "    <tr style=\"text-align: right;\">\n",
              "      <th></th>\n",
              "      <th>tables</th>\n",
              "      <th>time_target</th>\n",
              "    </tr>\n",
              "  </thead>\n",
              "  <tbody>\n",
              "    <tr>\n",
              "      <th>22786</th>\n",
              "      <td>20875</td>\n",
              "      <td>379.05</td>\n",
              "    </tr>\n",
              "    <tr>\n",
              "      <th>21378</th>\n",
              "      <td>203773,203773,203774</td>\n",
              "      <td>20,651.36</td>\n",
              "    </tr>\n",
              "    <tr>\n",
              "      <th>9713</th>\n",
              "      <td>153679</td>\n",
              "      <td>23,690.72</td>\n",
              "    </tr>\n",
              "  </tbody>\n",
              "</table>\n",
              "</div>"
            ],
            "text/plain": [
              "                     tables  time_target\n",
              "22786                 20875       379.05\n",
              "21378  203773,203773,203774    20,651.36\n",
              "9713                 153679    23,690.72"
            ]
          },
          "execution_count": 11,
          "metadata": {},
          "output_type": "execute_result"
        }
      ],
      "source": [
        "tables_time = (\n",
        "    tables_time\n",
        "    .groupby('tables')['time_target']\n",
        "    .median()\n",
        "    .reset_index()\n",
        ")\n",
        "tables_time.sample(3)"
      ]
    },
    {
      "cell_type": "code",
      "execution_count": 12,
      "metadata": {
        "id": "iQ8wdpBF8ogl"
      },
      "outputs": [
        {
          "data": {
            "text/html": [
              "<div>\n",
              "<style scoped>\n",
              "    .dataframe tbody tr th:only-of-type {\n",
              "        vertical-align: middle;\n",
              "    }\n",
              "\n",
              "    .dataframe tbody tr th {\n",
              "        vertical-align: top;\n",
              "    }\n",
              "\n",
              "    .dataframe thead th {\n",
              "        text-align: right;\n",
              "    }\n",
              "</style>\n",
              "<table border=\"1\" class=\"dataframe\">\n",
              "  <thead>\n",
              "    <tr style=\"text-align: right;\">\n",
              "      <th></th>\n",
              "      <th>tables</th>\n",
              "      <th>time_target</th>\n",
              "    </tr>\n",
              "  </thead>\n",
              "  <tbody>\n",
              "    <tr>\n",
              "      <th>9142</th>\n",
              "      <td>14996</td>\n",
              "      <td>11219406</td>\n",
              "    </tr>\n",
              "    <tr>\n",
              "      <th>28929</th>\n",
              "      <td>308121</td>\n",
              "      <td>4690881</td>\n",
              "    </tr>\n",
              "    <tr>\n",
              "      <th>26610</th>\n",
              "      <td>281142</td>\n",
              "      <td>2473347</td>\n",
              "    </tr>\n",
              "  </tbody>\n",
              "</table>\n",
              "</div>"
            ],
            "text/plain": [
              "       tables  time_target\n",
              "9142    14996     11219406\n",
              "28929  308121      4690881\n",
              "26610  281142      2473347"
            ]
          },
          "metadata": {},
          "output_type": "display_data"
        }
      ],
      "source": [
        "# Возьмем таблицы с большой длительностью\n",
        "tables_time = tables_time.loc[tables_time['tables'].str.split(',').apply(len) == 1]\n",
        "tables_time['time_target'] = tables_time['time_target'].astype('int')\n",
        "tables_time = tables_time.sort_values('time_target', ascending=False)\n",
        "display(tables_time.head(3))\n",
        "\n",
        "# Создадим словарь: номер таблицы и время в мс\n",
        "tables_time_dict = tables_time.set_index('tables')['time_target'].to_dict()"
      ]
    },
    {
      "cell_type": "markdown",
      "metadata": {},
      "source": [
        "## Топ 10 \"тяжелых таблиц\""
      ]
    },
    {
      "cell_type": "code",
      "execution_count": 13,
      "metadata": {},
      "outputs": [
        {
          "data": {
            "text/html": [
              "<div>\n",
              "<style scoped>\n",
              "    .dataframe tbody tr th:only-of-type {\n",
              "        vertical-align: middle;\n",
              "    }\n",
              "\n",
              "    .dataframe tbody tr th {\n",
              "        vertical-align: top;\n",
              "    }\n",
              "\n",
              "    .dataframe thead th {\n",
              "        text-align: right;\n",
              "    }\n",
              "</style>\n",
              "<table border=\"1\" class=\"dataframe\">\n",
              "  <thead>\n",
              "    <tr style=\"text-align: right;\">\n",
              "      <th></th>\n",
              "      <th>tables</th>\n",
              "      <th>median_time_ms</th>\n",
              "    </tr>\n",
              "  </thead>\n",
              "  <tbody>\n",
              "    <tr>\n",
              "      <th>0</th>\n",
              "      <td>14996</td>\n",
              "      <td>11219406</td>\n",
              "    </tr>\n",
              "    <tr>\n",
              "      <th>1</th>\n",
              "      <td>308121</td>\n",
              "      <td>4690881</td>\n",
              "    </tr>\n",
              "    <tr>\n",
              "      <th>2</th>\n",
              "      <td>281142</td>\n",
              "      <td>2473347</td>\n",
              "    </tr>\n",
              "    <tr>\n",
              "      <th>3</th>\n",
              "      <td>309364</td>\n",
              "      <td>2159433</td>\n",
              "    </tr>\n",
              "    <tr>\n",
              "      <th>4</th>\n",
              "      <td>305654</td>\n",
              "      <td>1718636</td>\n",
              "    </tr>\n",
              "    <tr>\n",
              "      <th>5</th>\n",
              "      <td>230191</td>\n",
              "      <td>874169</td>\n",
              "    </tr>\n",
              "    <tr>\n",
              "      <th>6</th>\n",
              "      <td>188049</td>\n",
              "      <td>738126</td>\n",
              "    </tr>\n",
              "    <tr>\n",
              "      <th>7</th>\n",
              "      <td>173857</td>\n",
              "      <td>718979</td>\n",
              "    </tr>\n",
              "    <tr>\n",
              "      <th>8</th>\n",
              "      <td>308374</td>\n",
              "      <td>622265</td>\n",
              "    </tr>\n",
              "    <tr>\n",
              "      <th>9</th>\n",
              "      <td>92506</td>\n",
              "      <td>584563</td>\n",
              "    </tr>\n",
              "  </tbody>\n",
              "</table>\n",
              "</div>"
            ],
            "text/plain": [
              "   tables  median_time_ms\n",
              "0   14996        11219406\n",
              "1  308121         4690881\n",
              "2  281142         2473347\n",
              "3  309364         2159433\n",
              "4  305654         1718636\n",
              "5  230191          874169\n",
              "6  188049          738126\n",
              "7  173857          718979\n",
              "8  308374          622265\n",
              "9   92506          584563"
            ]
          },
          "execution_count": 13,
          "metadata": {},
          "output_type": "execute_result"
        }
      ],
      "source": [
        "hard = pd.DataFrame.from_dict(tables_time_dict.items()).rename(columns={0:'tables', 1:'median_time_ms'})[:10]\n",
        "hard"
      ]
    },
    {
      "cell_type": "code",
      "execution_count": 14,
      "metadata": {},
      "outputs": [
        {
          "data": {
            "image/png": "[encoded data removed]",
            "text/plain": [
              "<Figure size 1080x648 with 1 Axes>"
            ]
          },
          "metadata": {},
          "output_type": "display_data"
        },
        {
          "name": "stdout",
          "output_type": "stream",
          "text": [
            "За две недели максимальная длительность использования таблиц у тройки:\n",
            " таблица \"14996\"- 11219406 ms,\n",
            " таблица \"308121\"- 4690881 ms,\n",
            " таблица \"281142\"- 2473347 ms.\n"
          ]
        }
      ],
      "source": [
        "# Построим график\n",
        "plt.figure(figsize=(15, 9))\n",
        "sns.barplot(data=hard, x=\"tables\", y=\"median_time_ms\")\n",
        "plt.title(\"Топ 10 тяжелых- высоконагруженных объектов\")\n",
        "plt.ylabel('Длительность использования таблиц')\n",
        "plt.xlabel('Наименование таблиц')\n",
        "plt.show()\n",
        "print('За две недели максимальная длительность использования таблиц у тройки:\\n таблица \"{}\"- {} ms,\\n таблица \"{}\"- {} ms,\\n таблица \"{}\"- {} ms.'\n",
        ".format(\n",
        "    hard.iloc[hard['median_time_ms'].idxmax()]['tables'], hard['median_time_ms'].max(), \n",
        "    hard.iloc[1]['tables'], hard.iloc[1]['median_time_ms'], \n",
        "    hard.iloc[2]['tables'], hard.iloc[2]['median_time_ms'])\n",
        "    )"
      ]
    },
    {
      "cell_type": "markdown",
      "metadata": {
        "id": "w9C8Fy_JVD58"
      },
      "source": [
        "## Прогнозирования времени исполнения запроса по предоставленным данным\n",
        "- Модель машинного обучения"
      ]
    },
    {
      "cell_type": "markdown",
      "metadata": {
        "id": "xRQG-JmO5M5V"
      },
      "source": [
        "## Препроцессинг"
      ]
    },
    {
      "cell_type": "code",
      "execution_count": 15,
      "metadata": {
        "id": "9s35xfsg1hQT"
      },
      "outputs": [
        {
          "data": {
            "text/html": [
              "<div>\n",
              "<style scoped>\n",
              "    .dataframe tbody tr th:only-of-type {\n",
              "        vertical-align: middle;\n",
              "    }\n",
              "\n",
              "    .dataframe tbody tr th {\n",
              "        vertical-align: top;\n",
              "    }\n",
              "\n",
              "    .dataframe thead th {\n",
              "        text-align: right;\n",
              "    }\n",
              "</style>\n",
              "<table border=\"1\" class=\"dataframe\">\n",
              "  <thead>\n",
              "    <tr style=\"text-align: right;\">\n",
              "      <th></th>\n",
              "      <th>rn</th>\n",
              "      <th>loguser</th>\n",
              "      <th>query</th>\n",
              "      <th>duration</th>\n",
              "      <th>time_target</th>\n",
              "      <th>tables</th>\n",
              "      <th>tables_count</th>\n",
              "    </tr>\n",
              "  </thead>\n",
              "  <tbody>\n",
              "    <tr>\n",
              "      <th>0</th>\n",
              "      <td>16493642</td>\n",
              "      <td>etl_528</td>\n",
              "      <td>from tbl_111329</td>\n",
              "      <td>duration: 240.851 ms</td>\n",
              "      <td>240.85</td>\n",
              "      <td>111329</td>\n",
              "      <td>1</td>\n",
              "    </tr>\n",
              "    <tr>\n",
              "      <th>1</th>\n",
              "      <td>12761109</td>\n",
              "      <td>etl_528</td>\n",
              "      <td>from tbl_127353</td>\n",
              "      <td>duration: 2165.935 ms</td>\n",
              "      <td>2,165.93</td>\n",
              "      <td>127353</td>\n",
              "      <td>1</td>\n",
              "    </tr>\n",
              "  </tbody>\n",
              "</table>\n",
              "</div>"
            ],
            "text/plain": [
              "         rn  loguser            query               duration  time_target  \\\n",
              "0  16493642  etl_528  from tbl_111329   duration: 240.851 ms       240.85   \n",
              "1  12761109  etl_528  from tbl_127353  duration: 2165.935 ms     2,165.93   \n",
              "\n",
              "   tables  tables_count  \n",
              "0  111329             1  \n",
              "1  127353             1  "
            ]
          },
          "execution_count": 15,
          "metadata": {},
          "output_type": "execute_result"
        }
      ],
      "source": [
        "# удаление пропусков\n",
        "wk2 = wk2.loc[wk2['time_target'].notna()]\n",
        "\n",
        "wk2['query'] = wk2['query'].str.replace(',', ' ', regex=True)\n",
        "wk2.head(2)"
      ]
    },
    {
      "cell_type": "markdown",
      "metadata": {
        "id": "hg4iTD_kVuNT"
      },
      "source": [
        "### Feature engineering"
      ]
    },
    {
      "cell_type": "markdown",
      "metadata": {
        "id": "ZKAqX-hDWrMS"
      },
      "source": [
        "- id юзера\n",
        "- тип юзера"
      ]
    },
    {
      "cell_type": "code",
      "execution_count": 16,
      "metadata": {},
      "outputs": [],
      "source": [
        "# Выделили номер юзера\n",
        "wk2['user_id'] = wk2['loguser'].str.replace('[^0-9]', '', regex=True).astype(int)\n",
        "\n",
        "# Привели к типу категориальный и номерацию 1-0 в зависимости от типа пользователя\n",
        "wk2['user_kind'] = wk2['loguser'].str.replace('[_0-9]', '', regex=True).astype('category').cat.codes"
      ]
    },
    {
      "cell_type": "code",
      "execution_count": 17,
      "metadata": {
        "id": "5Oe29H37VOBZ"
      },
      "outputs": [
        {
          "data": {
            "text/html": [
              "<div>\n",
              "<style scoped>\n",
              "    .dataframe tbody tr th:only-of-type {\n",
              "        vertical-align: middle;\n",
              "    }\n",
              "\n",
              "    .dataframe tbody tr th {\n",
              "        vertical-align: top;\n",
              "    }\n",
              "\n",
              "    .dataframe thead th {\n",
              "        text-align: right;\n",
              "    }\n",
              "</style>\n",
              "<table border=\"1\" class=\"dataframe\">\n",
              "  <thead>\n",
              "    <tr style=\"text-align: right;\">\n",
              "      <th></th>\n",
              "      <th>rn</th>\n",
              "      <th>query</th>\n",
              "      <th>duration</th>\n",
              "      <th>time_target</th>\n",
              "      <th>tables</th>\n",
              "      <th>tables_count</th>\n",
              "      <th>user_id</th>\n",
              "      <th>user_kind</th>\n",
              "    </tr>\n",
              "  </thead>\n",
              "  <tbody>\n",
              "    <tr>\n",
              "      <th>453929</th>\n",
              "      <td>805776</td>\n",
              "      <td>from tbl_83936 join tbl_83937</td>\n",
              "      <td>duration: 232.483 ms</td>\n",
              "      <td>232.48</td>\n",
              "      <td>83936,83937</td>\n",
              "      <td>2</td>\n",
              "      <td>2048</td>\n",
              "      <td>1</td>\n",
              "    </tr>\n",
              "    <tr>\n",
              "      <th>425270</th>\n",
              "      <td>28435372</td>\n",
              "      <td>from tbl_58809</td>\n",
              "      <td>duration: 9232.139 ms</td>\n",
              "      <td>9,232.14</td>\n",
              "      <td>58809</td>\n",
              "      <td>1</td>\n",
              "      <td>2048</td>\n",
              "      <td>1</td>\n",
              "    </tr>\n",
              "    <tr>\n",
              "      <th>67377</th>\n",
              "      <td>15994144</td>\n",
              "      <td>into tbl_182560 join tbl_182560 from tbl_182562</td>\n",
              "      <td>duration: 519.073 ms</td>\n",
              "      <td>519.07</td>\n",
              "      <td>182560,182560,182562</td>\n",
              "      <td>3</td>\n",
              "      <td>2048</td>\n",
              "      <td>1</td>\n",
              "    </tr>\n",
              "  </tbody>\n",
              "</table>\n",
              "</div>"
            ],
            "text/plain": [
              "              rn                                            query  \\\n",
              "453929    805776                    from tbl_83936 join tbl_83937   \n",
              "425270  28435372                                   from tbl_58809   \n",
              "67377   15994144  into tbl_182560 join tbl_182560 from tbl_182562   \n",
              "\n",
              "                     duration  time_target                tables  \\\n",
              "453929   duration: 232.483 ms       232.48           83936,83937   \n",
              "425270  duration: 9232.139 ms     9,232.14                 58809   \n",
              "67377    duration: 519.073 ms       519.07  182560,182560,182562   \n",
              "\n",
              "        tables_count  user_id  user_kind  \n",
              "453929             2     2048          1  \n",
              "425270             1     2048          1  \n",
              "67377              3     2048          1  "
            ]
          },
          "execution_count": 17,
          "metadata": {},
          "output_type": "execute_result"
        }
      ],
      "source": [
        "wk2 = wk2.drop('loguser', axis=1)\n",
        "wk2.sample(3)"
      ]
    },
    {
      "cell_type": "markdown",
      "metadata": {
        "id": "6TMwMyjBXJXW"
      },
      "source": [
        "- общее время пользователя на все запросы\n",
        "- кол-во запросов пользоватея за неделю\n",
        "- медианное время пользователя по 1 запрос\n",
        "- среднее кол-во таблиц в запросах пользователя"
      ]
    },
    {
      "cell_type": "code",
      "execution_count": 18,
      "metadata": {},
      "outputs": [
        {
          "data": {
            "text/html": [
              "<div>\n",
              "<style scoped>\n",
              "    .dataframe tbody tr th:only-of-type {\n",
              "        vertical-align: middle;\n",
              "    }\n",
              "\n",
              "    .dataframe tbody tr th {\n",
              "        vertical-align: top;\n",
              "    }\n",
              "\n",
              "    .dataframe thead th {\n",
              "        text-align: right;\n",
              "    }\n",
              "</style>\n",
              "<table border=\"1\" class=\"dataframe\">\n",
              "  <thead>\n",
              "    <tr style=\"text-align: right;\">\n",
              "      <th></th>\n",
              "      <th>user_id</th>\n",
              "      <th>sum_ms_time</th>\n",
              "    </tr>\n",
              "  </thead>\n",
              "  <tbody>\n",
              "    <tr>\n",
              "      <th>40</th>\n",
              "      <td>1162</td>\n",
              "      <td>41,042,024.96</td>\n",
              "    </tr>\n",
              "    <tr>\n",
              "      <th>48</th>\n",
              "      <td>1295</td>\n",
              "      <td>1,021,695.40</td>\n",
              "    </tr>\n",
              "    <tr>\n",
              "      <th>75</th>\n",
              "      <td>1850</td>\n",
              "      <td>437,435.89</td>\n",
              "    </tr>\n",
              "  </tbody>\n",
              "</table>\n",
              "</div>"
            ],
            "text/plain": [
              "    user_id   sum_ms_time\n",
              "40     1162 41,042,024.96\n",
              "48     1295  1,021,695.40\n",
              "75     1850    437,435.89"
            ]
          },
          "metadata": {},
          "output_type": "display_data"
        },
        {
          "data": {
            "text/html": [
              "<div>\n",
              "<style scoped>\n",
              "    .dataframe tbody tr th:only-of-type {\n",
              "        vertical-align: middle;\n",
              "    }\n",
              "\n",
              "    .dataframe tbody tr th {\n",
              "        vertical-align: top;\n",
              "    }\n",
              "\n",
              "    .dataframe thead th {\n",
              "        text-align: right;\n",
              "    }\n",
              "</style>\n",
              "<table border=\"1\" class=\"dataframe\">\n",
              "  <thead>\n",
              "    <tr style=\"text-align: right;\">\n",
              "      <th></th>\n",
              "      <th>rn</th>\n",
              "      <th>query</th>\n",
              "      <th>duration</th>\n",
              "      <th>time_target</th>\n",
              "      <th>tables</th>\n",
              "      <th>tables_count</th>\n",
              "      <th>user_id</th>\n",
              "      <th>user_kind</th>\n",
              "      <th>sum_ms_time</th>\n",
              "    </tr>\n",
              "  </thead>\n",
              "  <tbody>\n",
              "    <tr>\n",
              "      <th>0</th>\n",
              "      <td>16493642</td>\n",
              "      <td>from tbl_111329</td>\n",
              "      <td>duration: 240.851 ms</td>\n",
              "      <td>240.85</td>\n",
              "      <td>111329</td>\n",
              "      <td>1</td>\n",
              "      <td>528</td>\n",
              "      <td>1</td>\n",
              "      <td>369,114,653.08</td>\n",
              "    </tr>\n",
              "    <tr>\n",
              "      <th>1</th>\n",
              "      <td>12761109</td>\n",
              "      <td>from tbl_127353</td>\n",
              "      <td>duration: 2165.935 ms</td>\n",
              "      <td>2,165.93</td>\n",
              "      <td>127353</td>\n",
              "      <td>1</td>\n",
              "      <td>528</td>\n",
              "      <td>1</td>\n",
              "      <td>369,114,653.08</td>\n",
              "    </tr>\n",
              "    <tr>\n",
              "      <th>2</th>\n",
              "      <td>28294808</td>\n",
              "      <td>from tbl_128986</td>\n",
              "      <td>duration: 17661.026 ms</td>\n",
              "      <td>17,661.03</td>\n",
              "      <td>128986</td>\n",
              "      <td>1</td>\n",
              "      <td>528</td>\n",
              "      <td>1</td>\n",
              "      <td>369,114,653.08</td>\n",
              "    </tr>\n",
              "  </tbody>\n",
              "</table>\n",
              "</div>"
            ],
            "text/plain": [
              "         rn            query                duration  time_target  tables  \\\n",
              "0  16493642  from tbl_111329    duration: 240.851 ms       240.85  111329   \n",
              "1  12761109  from tbl_127353   duration: 2165.935 ms     2,165.93  127353   \n",
              "2  28294808  from tbl_128986  duration: 17661.026 ms    17,661.03  128986   \n",
              "\n",
              "   tables_count  user_id  user_kind    sum_ms_time  \n",
              "0             1      528          1 369,114,653.08  \n",
              "1             1      528          1 369,114,653.08  \n",
              "2             1      528          1 369,114,653.08  "
            ]
          },
          "execution_count": 18,
          "metadata": {},
          "output_type": "execute_result"
        }
      ],
      "source": [
        "#общее время пользователя на все запросы\n",
        "x = (\n",
        "    wk2\n",
        "    .groupby('user_id', as_index=False)['time_target']\n",
        "    .sum()\n",
        "    .rename(columns={'time_target':'sum_ms_time'})\n",
        ")\n",
        "display(x.sample(3))\n",
        "\n",
        "wk2 = wk2.merge(x, on = 'user_id', how='left')\n",
        "wk2['sum_ms_time'].fillna(0, inplace=True)\n",
        "wk2.head(3)"
      ]
    },
    {
      "cell_type": "code",
      "execution_count": 19,
      "metadata": {
        "id": "KsaWE4r_XHfd"
      },
      "outputs": [
        {
          "data": {
            "text/html": [
              "<div>\n",
              "<style scoped>\n",
              "    .dataframe tbody tr th:only-of-type {\n",
              "        vertical-align: middle;\n",
              "    }\n",
              "\n",
              "    .dataframe tbody tr th {\n",
              "        vertical-align: top;\n",
              "    }\n",
              "\n",
              "    .dataframe thead th {\n",
              "        text-align: right;\n",
              "    }\n",
              "</style>\n",
              "<table border=\"1\" class=\"dataframe\">\n",
              "  <thead>\n",
              "    <tr style=\"text-align: right;\">\n",
              "      <th></th>\n",
              "      <th>user_id</th>\n",
              "      <th>cnt_queries</th>\n",
              "    </tr>\n",
              "  </thead>\n",
              "  <tbody>\n",
              "    <tr>\n",
              "      <th>61</th>\n",
              "      <td>1678</td>\n",
              "      <td>7</td>\n",
              "    </tr>\n",
              "    <tr>\n",
              "      <th>48</th>\n",
              "      <td>1295</td>\n",
              "      <td>67</td>\n",
              "    </tr>\n",
              "    <tr>\n",
              "      <th>2</th>\n",
              "      <td>106</td>\n",
              "      <td>9</td>\n",
              "    </tr>\n",
              "  </tbody>\n",
              "</table>\n",
              "</div>"
            ],
            "text/plain": [
              "    user_id  cnt_queries\n",
              "61     1678            7\n",
              "48     1295           67\n",
              "2       106            9"
            ]
          },
          "metadata": {},
          "output_type": "display_data"
        },
        {
          "data": {
            "text/html": [
              "<div>\n",
              "<style scoped>\n",
              "    .dataframe tbody tr th:only-of-type {\n",
              "        vertical-align: middle;\n",
              "    }\n",
              "\n",
              "    .dataframe tbody tr th {\n",
              "        vertical-align: top;\n",
              "    }\n",
              "\n",
              "    .dataframe thead th {\n",
              "        text-align: right;\n",
              "    }\n",
              "</style>\n",
              "<table border=\"1\" class=\"dataframe\">\n",
              "  <thead>\n",
              "    <tr style=\"text-align: right;\">\n",
              "      <th></th>\n",
              "      <th>rn</th>\n",
              "      <th>query</th>\n",
              "      <th>duration</th>\n",
              "      <th>time_target</th>\n",
              "      <th>tables</th>\n",
              "      <th>tables_count</th>\n",
              "      <th>user_id</th>\n",
              "      <th>user_kind</th>\n",
              "      <th>sum_ms_time</th>\n",
              "      <th>cnt_queries</th>\n",
              "    </tr>\n",
              "  </thead>\n",
              "  <tbody>\n",
              "    <tr>\n",
              "      <th>557926</th>\n",
              "      <td>12924693</td>\n",
              "      <td>into tbl_83793 join tbl_83793 from tbl_83792</td>\n",
              "      <td>duration: 1190.617 ms</td>\n",
              "      <td>1,190.62</td>\n",
              "      <td>83793,83793,83792</td>\n",
              "      <td>3</td>\n",
              "      <td>2048</td>\n",
              "      <td>1</td>\n",
              "      <td>2,081,839,583.71</td>\n",
              "      <td>320398</td>\n",
              "    </tr>\n",
              "    <tr>\n",
              "      <th>557927</th>\n",
              "      <td>16756505</td>\n",
              "      <td>from tbl_15915</td>\n",
              "      <td>duration: 417.199 ms</td>\n",
              "      <td>417.20</td>\n",
              "      <td>15915</td>\n",
              "      <td>1</td>\n",
              "      <td>1151</td>\n",
              "      <td>1</td>\n",
              "      <td>1,094,132,858.19</td>\n",
              "      <td>101918</td>\n",
              "    </tr>\n",
              "    <tr>\n",
              "      <th>557928</th>\n",
              "      <td>21023432</td>\n",
              "      <td>from tbl_83212</td>\n",
              "      <td>duration: 692.306 ms</td>\n",
              "      <td>692.31</td>\n",
              "      <td>83212</td>\n",
              "      <td>1</td>\n",
              "      <td>2048</td>\n",
              "      <td>1</td>\n",
              "      <td>2,081,839,583.71</td>\n",
              "      <td>320398</td>\n",
              "    </tr>\n",
              "  </tbody>\n",
              "</table>\n",
              "</div>"
            ],
            "text/plain": [
              "              rn                                         query  \\\n",
              "557926  12924693  into tbl_83793 join tbl_83793 from tbl_83792   \n",
              "557927  16756505                                from tbl_15915   \n",
              "557928  21023432                                from tbl_83212   \n",
              "\n",
              "                     duration  time_target             tables  tables_count  \\\n",
              "557926  duration: 1190.617 ms     1,190.62  83793,83793,83792             3   \n",
              "557927   duration: 417.199 ms       417.20              15915             1   \n",
              "557928   duration: 692.306 ms       692.31              83212             1   \n",
              "\n",
              "        user_id  user_kind      sum_ms_time  cnt_queries  \n",
              "557926     2048          1 2,081,839,583.71       320398  \n",
              "557927     1151          1 1,094,132,858.19       101918  \n",
              "557928     2048          1 2,081,839,583.71       320398  "
            ]
          },
          "execution_count": 19,
          "metadata": {},
          "output_type": "execute_result"
        }
      ],
      "source": [
        "#кол-во запросов пользоватея за неделю\n",
        "x = (\n",
        "    wk2.groupby('user_id', as_index=False)['query']\n",
        "    .count()\n",
        "    .rename(columns={'query':'cnt_queries'})\n",
        ")\n",
        "display(x.sample(3))\n",
        "wk2 = wk2.merge(x, on = 'user_id', how='left')\n",
        "wk2['cnt_queries'].fillna(0, inplace=True)\n",
        "wk2.tail(3)"
      ]
    },
    {
      "cell_type": "code",
      "execution_count": 20,
      "metadata": {
        "id": "rpHo3D23h-HZ"
      },
      "outputs": [
        {
          "data": {
            "text/html": [
              "<div>\n",
              "<style scoped>\n",
              "    .dataframe tbody tr th:only-of-type {\n",
              "        vertical-align: middle;\n",
              "    }\n",
              "\n",
              "    .dataframe tbody tr th {\n",
              "        vertical-align: top;\n",
              "    }\n",
              "\n",
              "    .dataframe thead th {\n",
              "        text-align: right;\n",
              "    }\n",
              "</style>\n",
              "<table border=\"1\" class=\"dataframe\">\n",
              "  <thead>\n",
              "    <tr style=\"text-align: right;\">\n",
              "      <th></th>\n",
              "      <th>user_id</th>\n",
              "      <th>median_ms_time</th>\n",
              "    </tr>\n",
              "  </thead>\n",
              "  <tbody>\n",
              "    <tr>\n",
              "      <th>11</th>\n",
              "      <td>302</td>\n",
              "      <td>2,981.42</td>\n",
              "    </tr>\n",
              "    <tr>\n",
              "      <th>10</th>\n",
              "      <td>292</td>\n",
              "      <td>6.38</td>\n",
              "    </tr>\n",
              "    <tr>\n",
              "      <th>16</th>\n",
              "      <td>320</td>\n",
              "      <td>15,082.80</td>\n",
              "    </tr>\n",
              "  </tbody>\n",
              "</table>\n",
              "</div>"
            ],
            "text/plain": [
              "    user_id  median_ms_time\n",
              "11      302        2,981.42\n",
              "10      292            6.38\n",
              "16      320       15,082.80"
            ]
          },
          "metadata": {},
          "output_type": "display_data"
        },
        {
          "data": {
            "text/html": [
              "<div>\n",
              "<style scoped>\n",
              "    .dataframe tbody tr th:only-of-type {\n",
              "        vertical-align: middle;\n",
              "    }\n",
              "\n",
              "    .dataframe tbody tr th {\n",
              "        vertical-align: top;\n",
              "    }\n",
              "\n",
              "    .dataframe thead th {\n",
              "        text-align: right;\n",
              "    }\n",
              "</style>\n",
              "<table border=\"1\" class=\"dataframe\">\n",
              "  <thead>\n",
              "    <tr style=\"text-align: right;\">\n",
              "      <th></th>\n",
              "      <th>rn</th>\n",
              "      <th>query</th>\n",
              "      <th>duration</th>\n",
              "      <th>time_target</th>\n",
              "      <th>tables</th>\n",
              "      <th>tables_count</th>\n",
              "      <th>user_id</th>\n",
              "      <th>user_kind</th>\n",
              "      <th>sum_ms_time</th>\n",
              "      <th>cnt_queries</th>\n",
              "      <th>median_ms_time</th>\n",
              "    </tr>\n",
              "  </thead>\n",
              "  <tbody>\n",
              "    <tr>\n",
              "      <th>33089</th>\n",
              "      <td>28857047</td>\n",
              "      <td>from tbl_161638</td>\n",
              "      <td>duration: 65.495 ms</td>\n",
              "      <td>65.50</td>\n",
              "      <td>161638</td>\n",
              "      <td>1</td>\n",
              "      <td>2048</td>\n",
              "      <td>1</td>\n",
              "      <td>2,081,839,583.71</td>\n",
              "      <td>320398</td>\n",
              "      <td>471.19</td>\n",
              "    </tr>\n",
              "    <tr>\n",
              "      <th>84045</th>\n",
              "      <td>29805267</td>\n",
              "      <td>into tbl_8079 from tbl_8079</td>\n",
              "      <td>duration: 1320.033 ms</td>\n",
              "      <td>1,320.03</td>\n",
              "      <td>8079,8079</td>\n",
              "      <td>2</td>\n",
              "      <td>1151</td>\n",
              "      <td>1</td>\n",
              "      <td>1,094,132,858.19</td>\n",
              "      <td>101918</td>\n",
              "      <td>770.15</td>\n",
              "    </tr>\n",
              "    <tr>\n",
              "      <th>150515</th>\n",
              "      <td>15753252</td>\n",
              "      <td>from tbl_104792</td>\n",
              "      <td>duration: 99.711 ms</td>\n",
              "      <td>99.71</td>\n",
              "      <td>104792</td>\n",
              "      <td>1</td>\n",
              "      <td>2048</td>\n",
              "      <td>1</td>\n",
              "      <td>2,081,839,583.71</td>\n",
              "      <td>320398</td>\n",
              "      <td>471.19</td>\n",
              "    </tr>\n",
              "  </tbody>\n",
              "</table>\n",
              "</div>"
            ],
            "text/plain": [
              "              rn                        query               duration  \\\n",
              "33089   28857047              from tbl_161638    duration: 65.495 ms   \n",
              "84045   29805267  into tbl_8079 from tbl_8079  duration: 1320.033 ms   \n",
              "150515  15753252              from tbl_104792    duration: 99.711 ms   \n",
              "\n",
              "        time_target     tables  tables_count  user_id  user_kind  \\\n",
              "33089         65.50     161638             1     2048          1   \n",
              "84045      1,320.03  8079,8079             2     1151          1   \n",
              "150515        99.71     104792             1     2048          1   \n",
              "\n",
              "            sum_ms_time  cnt_queries  median_ms_time  \n",
              "33089  2,081,839,583.71       320398          471.19  \n",
              "84045  1,094,132,858.19       101918          770.15  \n",
              "150515 2,081,839,583.71       320398          471.19  "
            ]
          },
          "execution_count": 20,
          "metadata": {},
          "output_type": "execute_result"
        }
      ],
      "source": [
        "#медианное время пользователя на 1 запрос\n",
        "x = (\n",
        "    wk2.groupby('user_id', as_index=False)['time_target']\n",
        "    .median()\n",
        "    .rename(columns={'time_target':'median_ms_time'})\n",
        ")\n",
        "display(x.sample(3))\n",
        "wk2 = wk2.merge(x, on = 'user_id', how='left')\n",
        "wk2['median_ms_time'].fillna(0, inplace=True)\n",
        "wk2.sample(3)"
      ]
    },
    {
      "cell_type": "code",
      "execution_count": 21,
      "metadata": {
        "id": "gs9HIJWhcPdM"
      },
      "outputs": [
        {
          "data": {
            "text/html": [
              "<div>\n",
              "<style scoped>\n",
              "    .dataframe tbody tr th:only-of-type {\n",
              "        vertical-align: middle;\n",
              "    }\n",
              "\n",
              "    .dataframe tbody tr th {\n",
              "        vertical-align: top;\n",
              "    }\n",
              "\n",
              "    .dataframe thead th {\n",
              "        text-align: right;\n",
              "    }\n",
              "</style>\n",
              "<table border=\"1\" class=\"dataframe\">\n",
              "  <thead>\n",
              "    <tr style=\"text-align: right;\">\n",
              "      <th></th>\n",
              "      <th>user_id</th>\n",
              "      <th>mean_table_count</th>\n",
              "    </tr>\n",
              "  </thead>\n",
              "  <tbody>\n",
              "    <tr>\n",
              "      <th>78</th>\n",
              "      <td>1881</td>\n",
              "      <td>5.82</td>\n",
              "    </tr>\n",
              "    <tr>\n",
              "      <th>15</th>\n",
              "      <td>319</td>\n",
              "      <td>2.98</td>\n",
              "    </tr>\n",
              "    <tr>\n",
              "      <th>79</th>\n",
              "      <td>1892</td>\n",
              "      <td>4.05</td>\n",
              "    </tr>\n",
              "  </tbody>\n",
              "</table>\n",
              "</div>"
            ],
            "text/plain": [
              "    user_id  mean_table_count\n",
              "78     1881              5.82\n",
              "15      319              2.98\n",
              "79     1892              4.05"
            ]
          },
          "metadata": {},
          "output_type": "display_data"
        },
        {
          "data": {
            "text/html": [
              "<div>\n",
              "<style scoped>\n",
              "    .dataframe tbody tr th:only-of-type {\n",
              "        vertical-align: middle;\n",
              "    }\n",
              "\n",
              "    .dataframe tbody tr th {\n",
              "        vertical-align: top;\n",
              "    }\n",
              "\n",
              "    .dataframe thead th {\n",
              "        text-align: right;\n",
              "    }\n",
              "</style>\n",
              "<table border=\"1\" class=\"dataframe\">\n",
              "  <thead>\n",
              "    <tr style=\"text-align: right;\">\n",
              "      <th></th>\n",
              "      <th>rn</th>\n",
              "      <th>query</th>\n",
              "      <th>duration</th>\n",
              "      <th>time_target</th>\n",
              "      <th>tables</th>\n",
              "      <th>tables_count</th>\n",
              "      <th>user_id</th>\n",
              "      <th>user_kind</th>\n",
              "      <th>sum_ms_time</th>\n",
              "      <th>cnt_queries</th>\n",
              "      <th>median_ms_time</th>\n",
              "      <th>mean_table_count</th>\n",
              "    </tr>\n",
              "  </thead>\n",
              "  <tbody>\n",
              "    <tr>\n",
              "      <th>401381</th>\n",
              "      <td>11827991</td>\n",
              "      <td>from tbl_12270</td>\n",
              "      <td>duration: 1837.260 ms</td>\n",
              "      <td>1,837.26</td>\n",
              "      <td>12270</td>\n",
              "      <td>1</td>\n",
              "      <td>1151</td>\n",
              "      <td>1</td>\n",
              "      <td>1,094,132,858.19</td>\n",
              "      <td>101918</td>\n",
              "      <td>770.15</td>\n",
              "      <td>1.66</td>\n",
              "    </tr>\n",
              "    <tr>\n",
              "      <th>39902</th>\n",
              "      <td>12313709</td>\n",
              "      <td>from tbl_104333 join tbl_104335</td>\n",
              "      <td>duration: 415.769 ms</td>\n",
              "      <td>415.77</td>\n",
              "      <td>104333,104335</td>\n",
              "      <td>2</td>\n",
              "      <td>2048</td>\n",
              "      <td>1</td>\n",
              "      <td>2,081,839,583.71</td>\n",
              "      <td>320398</td>\n",
              "      <td>471.19</td>\n",
              "      <td>1.49</td>\n",
              "    </tr>\n",
              "    <tr>\n",
              "      <th>186278</th>\n",
              "      <td>21685451</td>\n",
              "      <td>from tbl_195050</td>\n",
              "      <td>duration: 63.567 ms</td>\n",
              "      <td>63.57</td>\n",
              "      <td>195050</td>\n",
              "      <td>1</td>\n",
              "      <td>1425</td>\n",
              "      <td>0</td>\n",
              "      <td>13,115,995.98</td>\n",
              "      <td>9553</td>\n",
              "      <td>129.54</td>\n",
              "      <td>1.00</td>\n",
              "    </tr>\n",
              "  </tbody>\n",
              "</table>\n",
              "</div>"
            ],
            "text/plain": [
              "              rn                            query               duration  \\\n",
              "401381  11827991                   from tbl_12270  duration: 1837.260 ms   \n",
              "39902   12313709  from tbl_104333 join tbl_104335   duration: 415.769 ms   \n",
              "186278  21685451                  from tbl_195050    duration: 63.567 ms   \n",
              "\n",
              "        time_target         tables  tables_count  user_id  user_kind  \\\n",
              "401381     1,837.26          12270             1     1151          1   \n",
              "39902        415.77  104333,104335             2     2048          1   \n",
              "186278        63.57         195050             1     1425          0   \n",
              "\n",
              "            sum_ms_time  cnt_queries  median_ms_time  mean_table_count  \n",
              "401381 1,094,132,858.19       101918          770.15              1.66  \n",
              "39902  2,081,839,583.71       320398          471.19              1.49  \n",
              "186278    13,115,995.98         9553          129.54              1.00  "
            ]
          },
          "execution_count": 21,
          "metadata": {},
          "output_type": "execute_result"
        }
      ],
      "source": [
        "#среднее кол-во таблиц в запросах пользователя\n",
        "x = (\n",
        "    wk2.groupby('user_id', as_index=False)['tables_count']\n",
        "    .mean()\n",
        "    .rename(columns={'tables_count':'mean_table_count'})\n",
        ")\n",
        "display(x.sample(3))\n",
        "wk2 = wk2.merge(x, on = 'user_id', how='left')\n",
        "wk2['mean_table_count'].fillna(0, inplace=True)\n",
        "wk2.sample(3)"
      ]
    },
    {
      "cell_type": "markdown",
      "metadata": {
        "id": "WlGVeJmAkCBL"
      },
      "source": [
        "### Удаляем выбросы в таргете(уменьшаем датасет для обучения)"
      ]
    },
    {
      "cell_type": "code",
      "execution_count": 22,
      "metadata": {
        "id": "_JMDg_KFdD4r"
      },
      "outputs": [
        {
          "data": {
            "text/plain": [
              "(474978, 12)"
            ]
          },
          "metadata": {},
          "output_type": "display_data"
        },
        {
          "data": {
            "text/html": [
              "<div>\n",
              "<style scoped>\n",
              "    .dataframe tbody tr th:only-of-type {\n",
              "        vertical-align: middle;\n",
              "    }\n",
              "\n",
              "    .dataframe tbody tr th {\n",
              "        vertical-align: top;\n",
              "    }\n",
              "\n",
              "    .dataframe thead th {\n",
              "        text-align: right;\n",
              "    }\n",
              "</style>\n",
              "<table border=\"1\" class=\"dataframe\">\n",
              "  <thead>\n",
              "    <tr style=\"text-align: right;\">\n",
              "      <th></th>\n",
              "      <th>rn</th>\n",
              "      <th>query</th>\n",
              "      <th>duration</th>\n",
              "      <th>time_target</th>\n",
              "      <th>tables</th>\n",
              "      <th>tables_count</th>\n",
              "      <th>user_id</th>\n",
              "      <th>user_kind</th>\n",
              "      <th>sum_ms_time</th>\n",
              "      <th>cnt_queries</th>\n",
              "      <th>median_ms_time</th>\n",
              "      <th>mean_table_count</th>\n",
              "    </tr>\n",
              "  </thead>\n",
              "  <tbody>\n",
              "    <tr>\n",
              "      <th>0</th>\n",
              "      <td>16493642</td>\n",
              "      <td>from tbl_111329</td>\n",
              "      <td>duration: 240.851 ms</td>\n",
              "      <td>240.85</td>\n",
              "      <td>111329</td>\n",
              "      <td>1</td>\n",
              "      <td>528</td>\n",
              "      <td>1</td>\n",
              "      <td>369,114,653.08</td>\n",
              "      <td>47464</td>\n",
              "      <td>1,130.01</td>\n",
              "      <td>1.16</td>\n",
              "    </tr>\n",
              "    <tr>\n",
              "      <th>1</th>\n",
              "      <td>12761109</td>\n",
              "      <td>from tbl_127353</td>\n",
              "      <td>duration: 2165.935 ms</td>\n",
              "      <td>2,165.93</td>\n",
              "      <td>127353</td>\n",
              "      <td>1</td>\n",
              "      <td>528</td>\n",
              "      <td>1</td>\n",
              "      <td>369,114,653.08</td>\n",
              "      <td>47464</td>\n",
              "      <td>1,130.01</td>\n",
              "      <td>1.16</td>\n",
              "    </tr>\n",
              "    <tr>\n",
              "      <th>3</th>\n",
              "      <td>12703938</td>\n",
              "      <td>from tbl_155188</td>\n",
              "      <td>duration: 1047.568 ms</td>\n",
              "      <td>1,047.57</td>\n",
              "      <td>155188</td>\n",
              "      <td>1</td>\n",
              "      <td>528</td>\n",
              "      <td>1</td>\n",
              "      <td>369,114,653.08</td>\n",
              "      <td>47464</td>\n",
              "      <td>1,130.01</td>\n",
              "      <td>1.16</td>\n",
              "    </tr>\n",
              "  </tbody>\n",
              "</table>\n",
              "</div>"
            ],
            "text/plain": [
              "         rn            query               duration  time_target  tables  \\\n",
              "0  16493642  from tbl_111329   duration: 240.851 ms       240.85  111329   \n",
              "1  12761109  from tbl_127353  duration: 2165.935 ms     2,165.93  127353   \n",
              "3  12703938  from tbl_155188  duration: 1047.568 ms     1,047.57  155188   \n",
              "\n",
              "   tables_count  user_id  user_kind    sum_ms_time  cnt_queries  \\\n",
              "0             1      528          1 369,114,653.08        47464   \n",
              "1             1      528          1 369,114,653.08        47464   \n",
              "3             1      528          1 369,114,653.08        47464   \n",
              "\n",
              "   median_ms_time  mean_table_count  \n",
              "0        1,130.01              1.16  \n",
              "1        1,130.01              1.16  \n",
              "3        1,130.01              1.16  "
            ]
          },
          "execution_count": 22,
          "metadata": {},
          "output_type": "execute_result"
        }
      ],
      "source": [
        "Q1 = wk2[['time_target']].quantile(0.25)\n",
        "Q3 = wk2[['time_target']].quantile(0.75)\n",
        "IQR = Q3 - Q1\n",
        "\n",
        "wk2 = wk2[~((wk2[['time_target']] < (Q1 - 1.5 * IQR)) |(wk2[['time_target']] > (Q3 + 1.5 * IQR))).any(axis=1)]\n",
        "display(wk2.shape)\n",
        "wk2.head(3)"
      ]
    },
    {
      "cell_type": "markdown",
      "metadata": {
        "id": "09x29wGdLB_X"
      },
      "source": [
        "### Подготовка данных для обучения"
      ]
    },
    {
      "cell_type": "code",
      "execution_count": 23,
      "metadata": {
        "id": "qi_bKOG10MRM"
      },
      "outputs": [],
      "source": [
        "# Выберем столбцы \n",
        "feature_col = ['query', 'tables_count',\n",
        "       'user_id', 'user_kind', 'sum_ms_time', \n",
        "       'cnt_queries', 'median_ms_time',\n",
        "       'mean_table_count']\n",
        "\n",
        "X = wk2[feature_col]\n",
        "y = wk2['time_target'].values\n",
        "\n",
        "# без перемешивания данных\n",
        "X_train, X_val, y_train, y_val = train_test_split(X, y, test_size=0.2, random_state=13, shuffle=False)\n"
      ]
    },
    {
      "cell_type": "markdown",
      "metadata": {
        "id": "U2rGVID2dEJd"
      },
      "source": [
        "### Векторизация запросов"
      ]
    },
    {
      "cell_type": "code",
      "execution_count": 24,
      "metadata": {
        "id": "WNhbbDdPdH-Z"
      },
      "outputs": [],
      "source": [
        "word_vectorizer = CountVectorizer(ngram_range=(1, 2))\n",
        "wk2['query'] = wk2['query'].str.replace(',', ' ')\n",
        "wk2['query'] = wk2['query'].str.replace('tbl_', ' ')\n",
        "word_vectorizer.fit(X_train['query'])\n",
        "train_word_features = word_vectorizer.transform(X_train['query'])\n",
        "test_word_features = word_vectorizer.transform(X_val['query'])\n",
        "\n",
        "X_train = hstack([X_train[feature_col[1:]].values, train_word_features])\n",
        "X_val = hstack([X_val[feature_col[1:]].values, test_word_features])"
      ]
    },
    {
      "cell_type": "markdown",
      "metadata": {
        "id": "ZOrJOM5BdRw_"
      },
      "source": [
        "### Модель машинного обучения"
      ]
    },
    {
      "cell_type": "code",
      "execution_count": 25,
      "metadata": {
        "id": "MZd7cDavdU3r"
      },
      "outputs": [],
      "source": [
        "train_pool = Pool(\n",
        "    X_train,\n",
        "    y_train,\n",
        ")\n",
        "valid_pool = Pool(\n",
        "    X_val,\n",
        "    y_val,\n",
        ")"
      ]
    },
    {
      "cell_type": "code",
      "execution_count": 26,
      "metadata": {
        "id": "IuB91YUldih0"
      },
      "outputs": [],
      "source": [
        "# Обучим модель на 500 итерациях\n",
        "catboost_params = {\n",
        "    'iterations': 500,\n",
        "    'learning_rate': 0.03,\n",
        "    'loss_function': 'MAE',\n",
        "    'eval_metric': 'MAE',\n",
        "    'early_stopping_rounds': 100,\n",
        "    'use_best_model': True,\n",
        "    'verbose': 5\n",
        "}"
      ]
    },
    {
      "cell_type": "code",
      "execution_count": 27,
      "metadata": {
        "colab": {
          "base_uri": "https://localhost:8080/"
        },
        "id": "ajl_ALbddkju",
        "outputId": "148db2ca-c3fc-4aa3-d945-8f0719cb559a"
      },
      "outputs": [
        {
          "name": "stdout",
          "output_type": "stream",
          "text": [
            "0:\tlearn: 1235.9531306\ttest: 1239.5694579\tbest: 1239.5694579 (0)\ttotal: 882ms\tremaining: 7m 20s\n",
            "5:\tlearn: 1221.1065539\ttest: 1224.8847829\tbest: 1224.8847829 (5)\ttotal: 4.25s\tremaining: 5m 50s\n",
            "10:\tlearn: 1210.4301882\ttest: 1214.3921891\tbest: 1214.3921891 (10)\ttotal: 7.61s\tremaining: 5m 38s\n",
            "15:\tlearn: 1202.6049898\ttest: 1206.6668470\tbest: 1206.6668470 (15)\ttotal: 10.9s\tremaining: 5m 29s\n",
            "20:\tlearn: 1196.2038070\ttest: 1200.4543943\tbest: 1200.4543943 (20)\ttotal: 14.2s\tremaining: 5m 23s\n",
            "25:\tlearn: 1191.6143646\ttest: 1196.0075834\tbest: 1196.0075834 (25)\ttotal: 17.5s\tremaining: 5m 19s\n",
            "30:\tlearn: 1188.2650299\ttest: 1192.7690491\tbest: 1192.7690491 (30)\ttotal: 20.7s\tremaining: 5m 13s\n",
            "35:\tlearn: 1185.9821214\ttest: 1190.5330248\tbest: 1190.5330248 (35)\ttotal: 23.9s\tremaining: 5m 8s\n",
            "40:\tlearn: 1183.8286801\ttest: 1188.4284285\tbest: 1188.4284285 (40)\ttotal: 27.2s\tremaining: 5m 4s\n",
            "45:\tlearn: 1182.1248000\ttest: 1186.7839239\tbest: 1186.7839239 (45)\ttotal: 30.4s\tremaining: 4m 59s\n",
            "50:\tlearn: 1180.9379242\ttest: 1185.6207199\tbest: 1185.6207199 (50)\ttotal: 33.6s\tremaining: 4m 55s\n",
            "55:\tlearn: 1179.8645655\ttest: 1184.5870208\tbest: 1184.5870208 (55)\ttotal: 36.9s\tremaining: 4m 52s\n",
            "60:\tlearn: 1178.8988915\ttest: 1183.6565763\tbest: 1183.6565763 (60)\ttotal: 40.1s\tremaining: 4m 48s\n",
            "65:\tlearn: 1177.9027890\ttest: 1182.6784022\tbest: 1182.6784022 (65)\ttotal: 43.2s\tremaining: 4m 44s\n",
            "70:\tlearn: 1177.1145143\ttest: 1181.9153170\tbest: 1181.9153170 (70)\ttotal: 46.5s\tremaining: 4m 41s\n",
            "75:\tlearn: 1176.3501456\ttest: 1181.1921475\tbest: 1181.1921475 (75)\ttotal: 49.6s\tremaining: 4m 36s\n",
            "80:\tlearn: 1175.7235451\ttest: 1180.5964333\tbest: 1180.5964333 (80)\ttotal: 52.8s\tremaining: 4m 32s\n",
            "85:\tlearn: 1175.0614410\ttest: 1179.9401047\tbest: 1179.9401047 (85)\ttotal: 56s\tremaining: 4m 29s\n",
            "90:\tlearn: 1174.4055536\ttest: 1179.3009925\tbest: 1179.3009925 (90)\ttotal: 59.1s\tremaining: 4m 25s\n",
            "95:\tlearn: 1173.8423478\ttest: 1178.7599069\tbest: 1178.7599069 (95)\ttotal: 1m 2s\tremaining: 4m 22s\n",
            "100:\tlearn: 1173.4195687\ttest: 1178.3396807\tbest: 1178.3396807 (100)\ttotal: 1m 5s\tremaining: 4m 19s\n",
            "105:\tlearn: 1173.0254593\ttest: 1177.9692683\tbest: 1177.9692683 (105)\ttotal: 1m 8s\tremaining: 4m 16s\n",
            "110:\tlearn: 1172.6048497\ttest: 1177.5750497\tbest: 1177.5750497 (110)\ttotal: 1m 11s\tremaining: 4m 12s\n",
            "115:\tlearn: 1172.2215061\ttest: 1177.2009356\tbest: 1177.2009356 (115)\ttotal: 1m 15s\tremaining: 4m 8s\n",
            "120:\tlearn: 1171.9312241\ttest: 1176.9319391\tbest: 1176.9319391 (120)\ttotal: 1m 18s\tremaining: 4m 4s\n",
            "125:\tlearn: 1171.6681803\ttest: 1176.6915899\tbest: 1176.6915899 (125)\ttotal: 1m 21s\tremaining: 4m\n",
            "130:\tlearn: 1171.3406695\ttest: 1176.3789030\tbest: 1176.3789030 (130)\ttotal: 1m 24s\tremaining: 3m 57s\n",
            "135:\tlearn: 1171.1003367\ttest: 1176.1447785\tbest: 1176.1447785 (135)\ttotal: 1m 27s\tremaining: 3m 53s\n",
            "140:\tlearn: 1170.8728272\ttest: 1175.9239283\tbest: 1175.9239283 (140)\ttotal: 1m 30s\tremaining: 3m 50s\n",
            "145:\tlearn: 1170.5794141\ttest: 1175.6403589\tbest: 1175.6403589 (145)\ttotal: 1m 33s\tremaining: 3m 46s\n",
            "150:\tlearn: 1170.3014389\ttest: 1175.4132411\tbest: 1175.4132411 (150)\ttotal: 1m 36s\tremaining: 3m 43s\n",
            "155:\tlearn: 1170.1238198\ttest: 1175.2421974\tbest: 1175.2421974 (155)\ttotal: 1m 39s\tremaining: 3m 40s\n",
            "160:\tlearn: 1169.8664237\ttest: 1174.9831892\tbest: 1174.9831892 (160)\ttotal: 1m 43s\tremaining: 3m 36s\n",
            "165:\tlearn: 1169.4424739\ttest: 1174.5756742\tbest: 1174.5756742 (165)\ttotal: 1m 46s\tremaining: 3m 33s\n",
            "170:\tlearn: 1168.9420919\ttest: 1174.0744194\tbest: 1174.0744194 (170)\ttotal: 1m 49s\tremaining: 3m 30s\n",
            "175:\tlearn: 1168.7403884\ttest: 1173.8909906\tbest: 1173.8909906 (175)\ttotal: 1m 52s\tremaining: 3m 26s\n",
            "180:\tlearn: 1168.5268046\ttest: 1173.6892549\tbest: 1173.6892549 (180)\ttotal: 1m 55s\tremaining: 3m 23s\n",
            "185:\tlearn: 1168.3371026\ttest: 1173.5073285\tbest: 1173.5073285 (185)\ttotal: 1m 58s\tremaining: 3m 20s\n",
            "190:\tlearn: 1168.1500303\ttest: 1173.3294481\tbest: 1173.3294481 (190)\ttotal: 2m 1s\tremaining: 3m 16s\n",
            "195:\tlearn: 1167.9265343\ttest: 1173.1263994\tbest: 1173.1263994 (195)\ttotal: 2m 4s\tremaining: 3m 13s\n",
            "200:\tlearn: 1167.7261077\ttest: 1172.9362417\tbest: 1172.9362417 (200)\ttotal: 2m 7s\tremaining: 3m 10s\n",
            "205:\tlearn: 1167.4964877\ttest: 1172.7081894\tbest: 1172.7081894 (205)\ttotal: 2m 11s\tremaining: 3m 7s\n",
            "210:\tlearn: 1167.3269083\ttest: 1172.5602079\tbest: 1172.5602079 (210)\ttotal: 2m 14s\tremaining: 3m 3s\n",
            "215:\tlearn: 1166.9197997\ttest: 1172.1451630\tbest: 1172.1451630 (215)\ttotal: 2m 17s\tremaining: 3m\n",
            "220:\tlearn: 1166.6924961\ttest: 1171.9195732\tbest: 1171.9195732 (220)\ttotal: 2m 20s\tremaining: 2m 57s\n",
            "225:\tlearn: 1166.4346276\ttest: 1171.6883442\tbest: 1171.6883442 (225)\ttotal: 2m 23s\tremaining: 2m 54s\n",
            "230:\tlearn: 1166.2379449\ttest: 1171.4921241\tbest: 1171.4921241 (230)\ttotal: 2m 26s\tremaining: 2m 50s\n",
            "235:\tlearn: 1166.0094443\ttest: 1171.2702939\tbest: 1171.2702939 (235)\ttotal: 2m 29s\tremaining: 2m 47s\n",
            "240:\tlearn: 1165.7545911\ttest: 1171.0130334\tbest: 1171.0130334 (240)\ttotal: 2m 32s\tremaining: 2m 44s\n",
            "245:\tlearn: 1165.5777414\ttest: 1170.8593767\tbest: 1170.8593767 (245)\ttotal: 2m 35s\tremaining: 2m 41s\n",
            "250:\tlearn: 1165.3781762\ttest: 1170.6459359\tbest: 1170.6459359 (250)\ttotal: 2m 39s\tremaining: 2m 37s\n",
            "255:\tlearn: 1165.1949427\ttest: 1170.4738901\tbest: 1170.4738901 (255)\ttotal: 2m 42s\tremaining: 2m 34s\n",
            "260:\tlearn: 1164.9856760\ttest: 1170.2765922\tbest: 1170.2765922 (260)\ttotal: 2m 45s\tremaining: 2m 31s\n",
            "265:\tlearn: 1164.7722669\ttest: 1170.0837387\tbest: 1170.0837387 (265)\ttotal: 2m 48s\tremaining: 2m 28s\n",
            "270:\tlearn: 1164.6278439\ttest: 1169.9510372\tbest: 1169.9510372 (270)\ttotal: 2m 51s\tremaining: 2m 25s\n",
            "275:\tlearn: 1164.4913741\ttest: 1169.8322019\tbest: 1169.8322019 (275)\ttotal: 2m 54s\tremaining: 2m 22s\n",
            "280:\tlearn: 1164.3246947\ttest: 1169.6675200\tbest: 1169.6675200 (280)\ttotal: 2m 58s\tremaining: 2m 18s\n",
            "285:\tlearn: 1164.1803124\ttest: 1169.5482673\tbest: 1169.5482673 (285)\ttotal: 3m 1s\tremaining: 2m 15s\n",
            "290:\tlearn: 1164.0433484\ttest: 1169.4167932\tbest: 1169.4167932 (290)\ttotal: 3m 4s\tremaining: 2m 12s\n",
            "295:\tlearn: 1163.9132730\ttest: 1169.2939982\tbest: 1169.2939982 (295)\ttotal: 3m 7s\tremaining: 2m 9s\n",
            "300:\tlearn: 1163.6552356\ttest: 1169.0357479\tbest: 1169.0357479 (300)\ttotal: 3m 11s\tremaining: 2m 6s\n",
            "305:\tlearn: 1163.5422558\ttest: 1168.9230905\tbest: 1168.9230905 (305)\ttotal: 3m 14s\tremaining: 2m 3s\n",
            "310:\tlearn: 1163.4211696\ttest: 1168.8261525\tbest: 1168.8261525 (310)\ttotal: 3m 17s\tremaining: 1m 59s\n",
            "315:\tlearn: 1163.2941096\ttest: 1168.7091227\tbest: 1168.7091227 (315)\ttotal: 3m 20s\tremaining: 1m 56s\n",
            "320:\tlearn: 1163.1799861\ttest: 1168.6195504\tbest: 1168.6195504 (320)\ttotal: 3m 23s\tremaining: 1m 53s\n",
            "325:\tlearn: 1163.0686318\ttest: 1168.5383886\tbest: 1168.5383886 (325)\ttotal: 3m 26s\tremaining: 1m 50s\n",
            "330:\tlearn: 1162.9552176\ttest: 1168.4345344\tbest: 1168.4345344 (330)\ttotal: 3m 29s\tremaining: 1m 46s\n",
            "335:\tlearn: 1162.8060882\ttest: 1168.2775523\tbest: 1168.2775523 (335)\ttotal: 3m 32s\tremaining: 1m 43s\n",
            "340:\tlearn: 1162.7250064\ttest: 1168.1998703\tbest: 1168.1998703 (340)\ttotal: 3m 36s\tremaining: 1m 40s\n",
            "345:\tlearn: 1162.6156621\ttest: 1168.1130588\tbest: 1168.1130588 (345)\ttotal: 3m 39s\tremaining: 1m 37s\n",
            "350:\tlearn: 1162.4962049\ttest: 1168.0112336\tbest: 1168.0112336 (350)\ttotal: 3m 42s\tremaining: 1m 34s\n",
            "355:\tlearn: 1162.4167165\ttest: 1167.9441518\tbest: 1167.9441518 (355)\ttotal: 3m 45s\tremaining: 1m 31s\n",
            "360:\tlearn: 1162.2104200\ttest: 1167.7390962\tbest: 1167.7390962 (360)\ttotal: 3m 48s\tremaining: 1m 27s\n",
            "365:\tlearn: 1162.0952930\ttest: 1167.6332054\tbest: 1167.6332054 (365)\ttotal: 3m 51s\tremaining: 1m 24s\n",
            "370:\tlearn: 1162.0087595\ttest: 1167.5493606\tbest: 1167.5493606 (370)\ttotal: 3m 54s\tremaining: 1m 21s\n",
            "375:\tlearn: 1161.9085523\ttest: 1167.4680023\tbest: 1167.4680023 (375)\ttotal: 3m 57s\tremaining: 1m 18s\n",
            "380:\tlearn: 1161.8015426\ttest: 1167.3737184\tbest: 1167.3737184 (380)\ttotal: 4m\tremaining: 1m 15s\n",
            "385:\tlearn: 1161.7365885\ttest: 1167.3150492\tbest: 1167.3150492 (385)\ttotal: 4m 4s\tremaining: 1m 12s\n",
            "390:\tlearn: 1161.6530303\ttest: 1167.2201919\tbest: 1167.2201919 (390)\ttotal: 4m 7s\tremaining: 1m 8s\n",
            "395:\tlearn: 1161.5756884\ttest: 1167.1568998\tbest: 1167.1568998 (395)\ttotal: 4m 10s\tremaining: 1m 5s\n",
            "400:\tlearn: 1161.4812296\ttest: 1167.0604867\tbest: 1167.0604867 (400)\ttotal: 4m 13s\tremaining: 1m 2s\n",
            "405:\tlearn: 1161.3795624\ttest: 1166.9616226\tbest: 1166.9616226 (405)\ttotal: 4m 16s\tremaining: 59.5s\n",
            "410:\tlearn: 1161.2937337\ttest: 1166.8872228\tbest: 1166.8872228 (410)\ttotal: 4m 20s\tremaining: 56.3s\n",
            "415:\tlearn: 1161.2085415\ttest: 1166.8185316\tbest: 1166.8185316 (415)\ttotal: 4m 23s\tremaining: 53.1s\n",
            "420:\tlearn: 1161.1420641\ttest: 1166.7572319\tbest: 1166.7572319 (420)\ttotal: 4m 26s\tremaining: 50s\n",
            "425:\tlearn: 1161.0406577\ttest: 1166.6699132\tbest: 1166.6699132 (425)\ttotal: 4m 29s\tremaining: 46.8s\n",
            "430:\tlearn: 1160.8452521\ttest: 1166.5013933\tbest: 1166.5013933 (430)\ttotal: 4m 32s\tremaining: 43.6s\n",
            "435:\tlearn: 1160.7735800\ttest: 1166.4378098\tbest: 1166.4378098 (435)\ttotal: 4m 35s\tremaining: 40.5s\n",
            "440:\tlearn: 1160.6739315\ttest: 1166.3435968\tbest: 1166.3435968 (440)\ttotal: 4m 40s\tremaining: 37.5s\n",
            "445:\tlearn: 1160.5857268\ttest: 1166.2602610\tbest: 1166.2602610 (445)\ttotal: 4m 43s\tremaining: 34.4s\n",
            "450:\tlearn: 1160.4666007\ttest: 1166.1469772\tbest: 1166.1469772 (450)\ttotal: 4m 47s\tremaining: 31.2s\n",
            "455:\tlearn: 1160.3588138\ttest: 1166.0598439\tbest: 1166.0598439 (455)\ttotal: 4m 50s\tremaining: 28s\n",
            "460:\tlearn: 1160.2864105\ttest: 1165.9970999\tbest: 1165.9970999 (460)\ttotal: 4m 55s\tremaining: 25s\n",
            "465:\tlearn: 1160.2178776\ttest: 1165.9353055\tbest: 1165.9353055 (465)\ttotal: 4m 58s\tremaining: 21.8s\n",
            "470:\tlearn: 1160.0758602\ttest: 1165.7927198\tbest: 1165.7927198 (470)\ttotal: 5m 1s\tremaining: 18.6s\n",
            "475:\tlearn: 1159.9556319\ttest: 1165.6782335\tbest: 1165.6782335 (475)\ttotal: 5m 5s\tremaining: 15.4s\n",
            "480:\tlearn: 1159.7797642\ttest: 1165.5137046\tbest: 1165.5137046 (480)\ttotal: 5m 8s\tremaining: 12.2s\n",
            "485:\tlearn: 1159.7021430\ttest: 1165.4415210\tbest: 1165.4415210 (485)\ttotal: 5m 11s\tremaining: 8.98s\n",
            "490:\tlearn: 1159.5990881\ttest: 1165.3413453\tbest: 1165.3413453 (490)\ttotal: 5m 14s\tremaining: 5.77s\n",
            "495:\tlearn: 1159.4851566\ttest: 1165.2431969\tbest: 1165.2431969 (495)\ttotal: 5m 17s\tremaining: 2.56s\n",
            "499:\tlearn: 1159.4206593\ttest: 1165.1814443\tbest: 1165.1814443 (499)\ttotal: 5m 20s\tremaining: 0us\n",
            "\n",
            "bestTest = 1165.181444\n",
            "bestIteration = 499\n",
            "\n"
          ]
        },
        {
          "data": {
            "text/plain": [
              "<catboost.core.CatBoostRegressor at 0x23e4b192ad0>"
            ]
          },
          "execution_count": 27,
          "metadata": {},
          "output_type": "execute_result"
        }
      ],
      "source": [
        "model = CatBoostRegressor(**catboost_params)\n",
        "model.fit(train_pool, eval_set=valid_pool)"
      ]
    },
    {
      "cell_type": "code",
      "execution_count": 28,
      "metadata": {
        "id": "L1hd5vlBdm2Z"
      },
      "outputs": [
        {
          "name": "stdout",
          "output_type": "stream",
          "text": [
            "Средняя абсолютная ошибка составляет - 1165.18 мс\n"
          ]
        }
      ],
      "source": [
        "pred = model.predict(X_val)\n",
        "print('Средняя абсолютная ошибка составляет -', round(mae(y_val, pred), 2), 'мс')"
      ]
    },
    {
      "cell_type": "markdown",
      "metadata": {
        "id": "B7tltAtBHDlW"
      },
      "source": [
        "## Прогноз на основе данных запроса и юзера"
      ]
    },
    {
      "cell_type": "code",
      "execution_count": 29,
      "metadata": {
        "id": "5SJklLwJ_bGb"
      },
      "outputs": [],
      "source": [
        "def predict_query_time(loguser:str, query: str):\n",
        "  d = {'loguser': loguser, 'query':query}\n",
        "  data = pd.DataFrame([d], columns=d.keys())\n",
        "  data['query'] = data['query'].str.replace(',', ' ', regex=True)\n",
        "  data['tables'] = data['query'].str.replace('[^0-9,]', '', regex=True).str.lower()\n",
        "  data['tables_count'] = data['tables'].str.split(',').apply(len)\n",
        "\n",
        "  data['user_id'] = data['loguser'].str.replace('[^0-9]', '', regex=True).astype(int)\n",
        "  data['user_kind'] = data['loguser'].str.replace('[_0-9]', '', regex=True).astype('category').cat.codes\n",
        "  data = data.drop('loguser', axis=1)\n",
        "\n",
        "  x = data.groupby('user_id', as_index=False)['query'].count().rename(columns={'query':'cnt_queries'})\n",
        "  data = data.merge(x, on = 'user_id', how='left')\n",
        "  data['cnt_queries'].fillna(0, inplace=True)\n",
        "\n",
        "  x = data.groupby('user_id', as_index=False)['tables_count'].mean().rename(columns={'tables_count':'mean_table_count'})\n",
        "  data = data.merge(x, on = 'user_id', how='left')\n",
        "  data['mean_table_count'].fillna(0, inplace=True)\n",
        "\n",
        "  data = data.merge(wk2[['user_id', 'sum_ms_time', 'median_ms_time']].drop_duplicates(), on='user_id', how='left')\n",
        "\n",
        "  pred_word_features = word_vectorizer.transform(data['query'])\n",
        "\n",
        "  test = hstack([data[feature_col[1:]].values, pred_word_features])\n",
        "\n",
        "  pred = model.predict(test)\n",
        "\n",
        "  txt = f'среднее время выполнения запроса - {round(pred[0] / 1000, 1)} +-1 сек'\n",
        "  return txt"
      ]
    },
    {
      "cell_type": "code",
      "execution_count": 30,
      "metadata": {
        "colab": {
          "base_uri": "https://localhost:8080/",
          "height": 36
        },
        "id": "0pBxsIjoDb74",
        "outputId": "a504a638-6b00-41b1-cecb-c621b007819b"
      },
      "outputs": [
        {
          "data": {
            "text/plain": [
              "'среднее время выполнения запроса - 1.6 +-1 сек'"
            ]
          },
          "execution_count": 30,
          "metadata": {},
          "output_type": "execute_result"
        }
      ],
      "source": [
        "#введите юзера и его запрос в формате str\n",
        "predict_query_time('dev_528', 'into 83793 join 83793 from 83792')"
      ]
    },
    {
      "cell_type": "markdown",
      "metadata": {},
      "source": [
        "## Очень крутой результат! Обработка меньше одной секунды."
      ]
    }
  ],
  "metadata": {
    "colab": {
      "collapsed_sections": [],
      "provenance": []
    },
    "kernelspec": {
      "display_name": "Python 3.10.1 64-bit",
      "language": "python",
      "name": "python3"
    },
    "language_info": {
      "codemirror_mode": {
        "name": "ipython",
        "version": 3
      },
      "file_extension": ".py",
      "mimetype": "text/x-python",
      "name": "python",
      "nbconvert_exporter": "python",
      "pygments_lexer": "ipython3",
      "version": "3.10.1"
    },
    "vscode": {
      "interpreter": {
        "hash": "e7d4d1fdefab968d87dae697830712be305784682ed311731942beb8000e292d"
      }
    }
  },
  "nbformat": 4,
  "nbformat_minor": 0
}
