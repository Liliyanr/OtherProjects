{
 "cells": [
  {
   "cell_type": "markdown",
   "metadata": {},
   "source": [
    "# Мастерская (EDA+дашборд)\n",
    "## Анализ вакансий для Data Analyst или BI analyst entry level в ЕU с LinkedIn.\n",
    "\n",
    "## Цель: \n",
    "Визуализировать информацию о рынке вакансий для дата аналитика или BI аналитика в Европе\n",
    "## Источник данных: \n",
    "файл сsv c вакансиями за неделю, спарсенными с LinkedIn 08/09/2022\n",
    "## ТЗ\n",
    "1. Распарсить предоставленный csv файл с помощью BS 4, создав следующие признаки:\n",
    "- наименование вакансии\n",
    "- город\n",
    "- страна\n",
    "- тип занятости (online, hybride, on-site)\n",
    "- компания\n",
    "- размер компании (количество работников)\n",
    "- сфера деятельности компании\n",
    "- требуемые хард скилы\n",
    "- дата публикации вакансии\n",
    "- количество кандидатов на вакансию\n",
    "\n",
    "2. Подготовка данных к визуализации:\n",
    "- фильтрация датафрейма с оставлением только вакансий для аналитиков данных и BI аналитиков\n",
    "- удаление дубликатов\n",
    "- удаление ненужных атрибутов (признаков)\n",
    "\n",
    "3. Визуализация данных в Tableau"
   ]
  },
  {
   "cell_type": "code",
   "execution_count": 1,
   "metadata": {},
   "outputs": [],
   "source": [
    "import os\n",
    "import pandas as pd\n",
    "from bs4 import BeautifulSoup\n",
    "import numpy as np\n",
    "\n",
    "import requests\n",
    "from geopy.geocoders import Nominatim\n",
    "import datetime as dt\n",
    "from datetime import date, datetime, timedelta\n",
    "#from datetime import datetime\n",
    "\n",
    "from IPython.display import HTML"
   ]
  },
  {
   "cell_type": "code",
   "execution_count": 2,
   "metadata": {},
   "outputs": [
    {
     "name": "stdout",
     "output_type": "stream",
     "text": [
      "<class 'pandas.core.frame.DataFrame'>\n",
      "RangeIndex: 772 entries, 0 to 771\n",
      "Data columns (total 1 columns):\n",
      " #   Column  Non-Null Count  Dtype \n",
      "---  ------  --------------  ----- \n",
      " 0   html    772 non-null    object\n",
      "dtypes: object(1)\n",
      "memory usage: 6.2+ KB\n"
     ]
    },
    {
     "data": {
      "text/html": [
       "<div>\n",
       "<style scoped>\n",
       "    .dataframe tbody tr th:only-of-type {\n",
       "        vertical-align: middle;\n",
       "    }\n",
       "\n",
       "    .dataframe tbody tr th {\n",
       "        vertical-align: top;\n",
       "    }\n",
       "\n",
       "    .dataframe thead th {\n",
       "        text-align: right;\n",
       "    }\n",
       "</style>\n",
       "<table border=\"1\" class=\"dataframe\">\n",
       "  <thead>\n",
       "    <tr style=\"text-align: right;\">\n",
       "      <th></th>\n",
       "      <th>html</th>\n",
       "    </tr>\n",
       "  </thead>\n",
       "  <tbody>\n",
       "    <tr>\n",
       "      <th>0</th>\n",
       "      <td>\\n  &lt;div&gt;\\n    &lt;div class=\"\\n        jobs-deta...</td>\n",
       "    </tr>\n",
       "    <tr>\n",
       "      <th>1</th>\n",
       "      <td>\\n  &lt;div&gt;\\n    &lt;div class=\"\\n        jobs-deta...</td>\n",
       "    </tr>\n",
       "  </tbody>\n",
       "</table>\n",
       "</div>"
      ],
      "text/plain": [
       "                                                html\n",
       "0  \\n  <div>\\n    <div class=\"\\n        jobs-deta...\n",
       "1  \\n  <div>\\n    <div class=\"\\n        jobs-deta..."
      ]
     },
     "execution_count": 2,
     "metadata": {},
     "output_type": "execute_result"
    }
   ],
   "source": [
    "# Откроем файл для аналитиков\n",
    "def path_open(name, pth1, pth2):\n",
    "    if os.path.exists(pth1):\n",
    "        name = pd.read_csv(pth1)\n",
    "    elif os.path.exists(pth2):\n",
    "        name = pd.read_csv(pth2)\n",
    "    else:\n",
    "        print('Something is wrong')\n",
    "        \n",
    "path_open('df', 'masterskaya_yandex_2022_09_07.csv', \n",
    "          'D:\\IT\\courses Python\\yandex_practicum\\\\13 parsing\\masterskaya_yandex_2022_09_07.csv'\n",
    "         )\n",
    "df = pd.read_csv('masterskaya_yandex_2022_09_07.csv', usecols=['html'])\n",
    "df.info()\n",
    "df.head(2)"
   ]
  },
  {
   "cell_type": "markdown",
   "metadata": {},
   "source": [
    "## Наименование вакансии"
   ]
  },
  {
   "cell_type": "code",
   "execution_count": 3,
   "metadata": {},
   "outputs": [
    {
     "data": {
      "text/html": [
       "<div>\n",
       "<style scoped>\n",
       "    .dataframe tbody tr th:only-of-type {\n",
       "        vertical-align: middle;\n",
       "    }\n",
       "\n",
       "    .dataframe tbody tr th {\n",
       "        vertical-align: top;\n",
       "    }\n",
       "\n",
       "    .dataframe thead th {\n",
       "        text-align: right;\n",
       "    }\n",
       "</style>\n",
       "<table border=\"1\" class=\"dataframe\">\n",
       "  <thead>\n",
       "    <tr style=\"text-align: right;\">\n",
       "      <th></th>\n",
       "      <th>html</th>\n",
       "      <th>title</th>\n",
       "    </tr>\n",
       "  </thead>\n",
       "  <tbody>\n",
       "    <tr>\n",
       "      <th>0</th>\n",
       "      <td>\\n  &lt;div&gt;\\n    &lt;div class=\"\\n        jobs-deta...</td>\n",
       "      <td>Stage - Assistant Ingénieur Qualité - Beyrand ...</td>\n",
       "    </tr>\n",
       "    <tr>\n",
       "      <th>1</th>\n",
       "      <td>\\n  &lt;div&gt;\\n    &lt;div class=\"\\n        jobs-deta...</td>\n",
       "      <td>développeur matlab/simulink, secteur automobil...</td>\n",
       "    </tr>\n",
       "  </tbody>\n",
       "</table>\n",
       "</div>"
      ],
      "text/plain": [
       "                                                html  \\\n",
       "0  \\n  <div>\\n    <div class=\"\\n        jobs-deta...   \n",
       "1  \\n  <div>\\n    <div class=\"\\n        jobs-deta...   \n",
       "\n",
       "                                               title  \n",
       "0  Stage - Assistant Ingénieur Qualité - Beyrand ...  \n",
       "1  développeur matlab/simulink, secteur automobil...  "
      ]
     },
     "execution_count": 3,
     "metadata": {},
     "output_type": "execute_result"
    }
   ],
   "source": [
    "# Выделим название вакансии\n",
    "df['title'] = df['html'].apply(lambda x:  BeautifulSoup(x).find('h2').text.strip())\n",
    "df.head(2)\n",
    "\n",
    "# Посмотрим какие есть вакансии\n",
    "#df['title'].unique()"
   ]
  },
  {
   "cell_type": "code",
   "execution_count": 4,
   "metadata": {},
   "outputs": [
    {
     "name": "stdout",
     "output_type": "stream",
     "text": [
      "Количество релевантных вакансий: 362 шт, что составляет - 47%\n"
     ]
    }
   ],
   "source": [
    "# Отсортируем вакансии для дата аналитиков \n",
    "df_sorted = (\n",
    "    df.loc[df['title']\n",
    "    .str.contains('Analyst|Business Intelligence', case=False) == True]\n",
    "    .reset_index(drop=True)\n",
    ")\n",
    "print('Количество релевантных вакансий: {} шт, что составляет - {}%'.format(len(df_sorted), round(len(df_sorted)/ len(df) * 100)))"
   ]
  },
  {
   "cell_type": "code",
   "execution_count": 5,
   "metadata": {},
   "outputs": [
    {
     "data": {
      "text/html": [
       "<div>\n",
       "<style scoped>\n",
       "    .dataframe tbody tr th:only-of-type {\n",
       "        vertical-align: middle;\n",
       "    }\n",
       "\n",
       "    .dataframe tbody tr th {\n",
       "        vertical-align: top;\n",
       "    }\n",
       "\n",
       "    .dataframe thead th {\n",
       "        text-align: right;\n",
       "    }\n",
       "</style>\n",
       "<table border=\"1\" class=\"dataframe\">\n",
       "  <thead>\n",
       "    <tr style=\"text-align: right;\">\n",
       "      <th></th>\n",
       "      <th>html</th>\n",
       "      <th>title</th>\n",
       "      <th>link</th>\n",
       "    </tr>\n",
       "  </thead>\n",
       "  <tbody>\n",
       "    <tr>\n",
       "      <th>252</th>\n",
       "      <td>\\n  &lt;div&gt;\\n    &lt;div class=\"\\n        jobs-deta...</td>\n",
       "      <td>Data Analyst &amp; BusinessObjects Developer</td>\n",
       "      <td>https://linkedin.com/jobs/view/3199645530/?alt...</td>\n",
       "    </tr>\n",
       "    <tr>\n",
       "      <th>291</th>\n",
       "      <td>\\n  &lt;div&gt;\\n    &lt;div class=\"\\n        jobs-deta...</td>\n",
       "      <td>Data Analyst</td>\n",
       "      <td>https://linkedin.com/jobs/view/3249116636/?alt...</td>\n",
       "    </tr>\n",
       "  </tbody>\n",
       "</table>\n",
       "</div>"
      ],
      "text/plain": [
       "                                                  html  \\\n",
       "252  \\n  <div>\\n    <div class=\"\\n        jobs-deta...   \n",
       "291  \\n  <div>\\n    <div class=\"\\n        jobs-deta...   \n",
       "\n",
       "                                        title  \\\n",
       "252  Data Analyst & BusinessObjects Developer   \n",
       "291                              Data Analyst   \n",
       "\n",
       "                                                  link  \n",
       "252  https://linkedin.com/jobs/view/3199645530/?alt...  \n",
       "291  https://linkedin.com/jobs/view/3249116636/?alt...  "
      ]
     },
     "execution_count": 5,
     "metadata": {},
     "output_type": "execute_result"
    }
   ],
   "source": [
    "# Достанем ссылки на вакансии. В html любая ссылка имеет аттрибут href\n",
    "# Добавим спереди ресурс откуда 'https://linkedin.com' и закинем в лямбду.\n",
    "df_sorted['link'] = df_sorted['html'].apply(lambda x: \"https://linkedin.com\" + BeautifulSoup(x).find('a').get('href'))\n",
    "df_sorted[['link']].to_html(render_links=True, escape=False)\n",
    "df_sorted.sample(2)"
   ]
  },
  {
   "cell_type": "code",
   "execution_count": 6,
   "metadata": {},
   "outputs": [
    {
     "data": {
      "text/html": [
       "<div>\n",
       "<style scoped>\n",
       "    .dataframe tbody tr th:only-of-type {\n",
       "        vertical-align: middle;\n",
       "    }\n",
       "\n",
       "    .dataframe tbody tr th {\n",
       "        vertical-align: top;\n",
       "    }\n",
       "\n",
       "    .dataframe thead th {\n",
       "        text-align: right;\n",
       "    }\n",
       "</style>\n",
       "<table border=\"1\" class=\"dataframe\">\n",
       "  <thead>\n",
       "    <tr style=\"text-align: right;\">\n",
       "      <th></th>\n",
       "      <th>html</th>\n",
       "      <th>title</th>\n",
       "      <th>link</th>\n",
       "    </tr>\n",
       "  </thead>\n",
       "  <tbody>\n",
       "    <tr>\n",
       "      <th>308</th>\n",
       "      <td>\\n  &lt;div&gt;\\n    &lt;div class=\"\\n        jobs-deta...</td>\n",
       "      <td>Inventory data analyst til Europas største kon...</td>\n",
       "      <td>https://linkedin.com/jobs/view/3247021945/?alt...</td>\n",
       "    </tr>\n",
       "    <tr>\n",
       "      <th>129</th>\n",
       "      <td>\\n  &lt;div&gt;\\n    &lt;div class=\"\\n        jobs-deta...</td>\n",
       "      <td>Data Analyst</td>\n",
       "      <td>https://linkedin.com/jobs/view/3247043224/?alt...</td>\n",
       "    </tr>\n",
       "  </tbody>\n",
       "</table>\n",
       "</div>"
      ],
      "text/plain": [
       "                                                  html  \\\n",
       "308  \\n  <div>\\n    <div class=\"\\n        jobs-deta...   \n",
       "129  \\n  <div>\\n    <div class=\"\\n        jobs-deta...   \n",
       "\n",
       "                                                 title  \\\n",
       "308  Inventory data analyst til Europas største kon...   \n",
       "129                                       Data Analyst   \n",
       "\n",
       "                                                  link  \n",
       "308  https://linkedin.com/jobs/view/3247021945/?alt...  \n",
       "129  https://linkedin.com/jobs/view/3247043224/?alt...  "
      ]
     },
     "execution_count": 6,
     "metadata": {},
     "output_type": "execute_result"
    }
   ],
   "source": [
    "# Сделаем кликабельные ссылки в столбце link\n",
    "def make_clickable(val):\n",
    "    return f'<a href=\"{val}\">{val}</a>'\n",
    "\n",
    "df_sorted.style.format(make_clickable)\n",
    "df_sorted.sample(2)"
   ]
  },
  {
   "cell_type": "code",
   "execution_count": 7,
   "metadata": {},
   "outputs": [
    {
     "data": {
      "text/html": [
       "<div>\n",
       "<style scoped>\n",
       "    .dataframe tbody tr th:only-of-type {\n",
       "        vertical-align: middle;\n",
       "    }\n",
       "\n",
       "    .dataframe tbody tr th {\n",
       "        vertical-align: top;\n",
       "    }\n",
       "\n",
       "    .dataframe thead th {\n",
       "        text-align: right;\n",
       "    }\n",
       "</style>\n",
       "<table border=\"1\" class=\"dataframe\">\n",
       "  <thead>\n",
       "    <tr style=\"text-align: right;\">\n",
       "      <th></th>\n",
       "      <th>html</th>\n",
       "      <th>title</th>\n",
       "      <th>link</th>\n",
       "      <th>geo</th>\n",
       "    </tr>\n",
       "  </thead>\n",
       "  <tbody>\n",
       "    <tr>\n",
       "      <th>163</th>\n",
       "      <td>\\n  &lt;div&gt;\\n    &lt;div class=\"\\n        jobs-deta...</td>\n",
       "      <td>(Junior) H2 Modelling Analyst m/f/t</td>\n",
       "      <td>https://linkedin.com/jobs/view/3250680016/?alt...</td>\n",
       "      <td>Essen, North Rhine-Westphalia, Germany</td>\n",
       "    </tr>\n",
       "    <tr>\n",
       "      <th>106</th>\n",
       "      <td>\\n  &lt;div&gt;\\n    &lt;div class=\"\\n        jobs-deta...</td>\n",
       "      <td>Data Analyst (m/w/d)</td>\n",
       "      <td>https://linkedin.com/jobs/view/3248338605/?alt...</td>\n",
       "      <td>Bonn, North Rhine-Westphalia, Germany</td>\n",
       "    </tr>\n",
       "  </tbody>\n",
       "</table>\n",
       "</div>"
      ],
      "text/plain": [
       "                                                  html  \\\n",
       "163  \\n  <div>\\n    <div class=\"\\n        jobs-deta...   \n",
       "106  \\n  <div>\\n    <div class=\"\\n        jobs-deta...   \n",
       "\n",
       "                                   title  \\\n",
       "163  (Junior) H2 Modelling Analyst m/f/t   \n",
       "106                 Data Analyst (m/w/d)   \n",
       "\n",
       "                                                  link  \\\n",
       "163  https://linkedin.com/jobs/view/3250680016/?alt...   \n",
       "106  https://linkedin.com/jobs/view/3248338605/?alt...   \n",
       "\n",
       "                                        geo  \n",
       "163  Essen, North Rhine-Westphalia, Germany  \n",
       "106   Bonn, North Rhine-Westphalia, Germany  "
      ]
     },
     "execution_count": 7,
     "metadata": {},
     "output_type": "execute_result"
    }
   ],
   "source": [
    "# Нужно вытащить адрес\n",
    "def get_geo(cell):\n",
    "    try:\n",
    "        return BeautifulSoup(cell).find('span', class_ = 'jobs-unified-top-card__bullet').text.strip()\n",
    "    except:\n",
    "        return np.nan\n",
    "df_sorted['geo'] = df_sorted['html'].apply(get_geo)\n",
    "df_sorted.sample(2)"
   ]
  },
  {
   "cell_type": "markdown",
   "metadata": {},
   "source": [
    "## Город - city"
   ]
  },
  {
   "cell_type": "code",
   "execution_count": 8,
   "metadata": {},
   "outputs": [
    {
     "data": {
      "text/html": [
       "<div>\n",
       "<style scoped>\n",
       "    .dataframe tbody tr th:only-of-type {\n",
       "        vertical-align: middle;\n",
       "    }\n",
       "\n",
       "    .dataframe tbody tr th {\n",
       "        vertical-align: top;\n",
       "    }\n",
       "\n",
       "    .dataframe thead th {\n",
       "        text-align: right;\n",
       "    }\n",
       "</style>\n",
       "<table border=\"1\" class=\"dataframe\">\n",
       "  <thead>\n",
       "    <tr style=\"text-align: right;\">\n",
       "      <th></th>\n",
       "      <th>html</th>\n",
       "      <th>title</th>\n",
       "      <th>link</th>\n",
       "      <th>geo</th>\n",
       "      <th>city</th>\n",
       "    </tr>\n",
       "  </thead>\n",
       "  <tbody>\n",
       "    <tr>\n",
       "      <th>0</th>\n",
       "      <td>\\n  &lt;div&gt;\\n    &lt;div class=\"\\n        jobs-deta...</td>\n",
       "      <td>Online Data Analyst</td>\n",
       "      <td>https://linkedin.com/jobs/view/3248499929/?alt...</td>\n",
       "      <td>Skara, Vastra Gotaland County, Sweden</td>\n",
       "      <td>Skara</td>\n",
       "    </tr>\n",
       "    <tr>\n",
       "      <th>1</th>\n",
       "      <td>\\n  &lt;div&gt;\\n    &lt;div class=\"\\n        jobs-deta...</td>\n",
       "      <td>Online Data Analyst - Belgium</td>\n",
       "      <td>https://linkedin.com/jobs/view/3248879065/?alt...</td>\n",
       "      <td>West Flanders, Flemish Region, Belgium</td>\n",
       "      <td>West Flanders</td>\n",
       "    </tr>\n",
       "  </tbody>\n",
       "</table>\n",
       "</div>"
      ],
      "text/plain": [
       "                                                html  \\\n",
       "0  \\n  <div>\\n    <div class=\"\\n        jobs-deta...   \n",
       "1  \\n  <div>\\n    <div class=\"\\n        jobs-deta...   \n",
       "\n",
       "                           title  \\\n",
       "0            Online Data Analyst   \n",
       "1  Online Data Analyst - Belgium   \n",
       "\n",
       "                                                link  \\\n",
       "0  https://linkedin.com/jobs/view/3248499929/?alt...   \n",
       "1  https://linkedin.com/jobs/view/3248879065/?alt...   \n",
       "\n",
       "                                      geo           city  \n",
       "0   Skara, Vastra Gotaland County, Sweden          Skara  \n",
       "1  West Flanders, Flemish Region, Belgium  West Flanders  "
      ]
     },
     "execution_count": 8,
     "metadata": {},
     "output_type": "execute_result"
    }
   ],
   "source": [
    "# Функция будет создавать один признак с городом, другой - со страной. Получим город\n",
    "def get_city(cell):\n",
    "    try:\n",
    "        if len(cell.split(',')) > 1:\n",
    "            return cell.split(',')[0].strip()\n",
    "        elif 'Greater' in cell:\n",
    "            return cell.split()[1].strip()\n",
    "        elif 'Area' in cell:\n",
    "            return cell.split()[0].strip()\n",
    "    except:\n",
    "        return 'unknown'\n",
    "df_sorted['city'] = df_sorted['geo'].apply(get_city)\n",
    "df_sorted.head(2)"
   ]
  },
  {
   "cell_type": "markdown",
   "metadata": {},
   "source": [
    "## Страна - country"
   ]
  },
  {
   "cell_type": "code",
   "execution_count": 9,
   "metadata": {},
   "outputs": [
    {
     "data": {
      "text/html": [
       "<div>\n",
       "<style scoped>\n",
       "    .dataframe tbody tr th:only-of-type {\n",
       "        vertical-align: middle;\n",
       "    }\n",
       "\n",
       "    .dataframe tbody tr th {\n",
       "        vertical-align: top;\n",
       "    }\n",
       "\n",
       "    .dataframe thead th {\n",
       "        text-align: right;\n",
       "    }\n",
       "</style>\n",
       "<table border=\"1\" class=\"dataframe\">\n",
       "  <thead>\n",
       "    <tr style=\"text-align: right;\">\n",
       "      <th></th>\n",
       "      <th>html</th>\n",
       "      <th>title</th>\n",
       "      <th>link</th>\n",
       "      <th>geo</th>\n",
       "      <th>city</th>\n",
       "      <th>country</th>\n",
       "    </tr>\n",
       "  </thead>\n",
       "  <tbody>\n",
       "    <tr>\n",
       "      <th>25</th>\n",
       "      <td>\\n  &lt;div&gt;\\n    &lt;div class=\"\\n        jobs-deta...</td>\n",
       "      <td>Data Analyst (IT)</td>\n",
       "      <td>https://linkedin.com/jobs/view/3254949074/?alt...</td>\n",
       "      <td>Basel, Basel, Switzerland</td>\n",
       "      <td>Basel</td>\n",
       "      <td>Switzerland</td>\n",
       "    </tr>\n",
       "    <tr>\n",
       "      <th>300</th>\n",
       "      <td>\\n  &lt;div&gt;\\n    &lt;div class=\"\\n        jobs-deta...</td>\n",
       "      <td>Junior Analyst (J12998)</td>\n",
       "      <td>https://linkedin.com/jobs/view/3248176207/?alt...</td>\n",
       "      <td>Tavira, Faro, Portugal</td>\n",
       "      <td>Tavira</td>\n",
       "      <td>Portugal</td>\n",
       "    </tr>\n",
       "  </tbody>\n",
       "</table>\n",
       "</div>"
      ],
      "text/plain": [
       "                                                  html  \\\n",
       "25   \\n  <div>\\n    <div class=\"\\n        jobs-deta...   \n",
       "300  \\n  <div>\\n    <div class=\"\\n        jobs-deta...   \n",
       "\n",
       "                       title  \\\n",
       "25         Data Analyst (IT)   \n",
       "300  Junior Analyst (J12998)   \n",
       "\n",
       "                                                  link  \\\n",
       "25   https://linkedin.com/jobs/view/3254949074/?alt...   \n",
       "300  https://linkedin.com/jobs/view/3248176207/?alt...   \n",
       "\n",
       "                           geo    city      country  \n",
       "25   Basel, Basel, Switzerland   Basel  Switzerland  \n",
       "300     Tavira, Faro, Portugal  Tavira     Portugal  "
      ]
     },
     "execution_count": 9,
     "metadata": {},
     "output_type": "execute_result"
    }
   ],
   "source": [
    "# Получим страну\n",
    "def get_country(cell):\n",
    "    try:\n",
    "        if len(cell.split(',')) > 1:\n",
    "            return cell.split(',')[-1].strip()\n",
    "        else:\n",
    "            return cell.split(',')[0].strip()\n",
    "    except:\n",
    "        return np.NaN\n",
    "df_sorted['country'] = df_sorted['geo'].apply(get_country)\n",
    "df_sorted.sample(2)"
   ]
  },
  {
   "cell_type": "code",
   "execution_count": 10,
   "metadata": {},
   "outputs": [
    {
     "name": "stdout",
     "output_type": "stream",
     "text": [
      "html : 0 / 0%\n",
      "title : 0 / 0%\n",
      "link : 0 / 0%\n",
      "geo : 0 / 0%\n",
      "city : 24 / 7%\n",
      "country : 0 / 0%\n",
      "---------------------------\n",
      "Уникальные имена стран:\n",
      "['Sweden' 'Belgium' 'Germany' 'France' 'Hungary'\n",
      " 'Przemyśl Metropolitan Area' 'Gibraltar' 'Poland'\n",
      " 'Grudziadz Metropolitan Area' 'Greater Norrköping Metropolitan Area'\n",
      " 'Radom Metropolitan Area' 'Zamosc Metropolitan Area'\n",
      " 'Greater Edinburgh Area' 'United Kingdom' 'Finland' 'Switzerland'\n",
      " 'Netherlands' 'Lodz Metropolitan Area' 'Norway' 'Italy' 'Czechia'\n",
      " 'Bulgaria' 'Slovakia' 'Portugal' 'Spain' 'Mons Metropolitan Area'\n",
      " 'Bucharest Metropolitan Area' 'Greater Milan Metropolitan Area'\n",
      " 'Greater Bologna Metropolitan Area' 'Luxembourg'\n",
      " 'Ghent Metropolitan Area' 'Ireland' 'Bruges Metropolitan Area' 'Croatia'\n",
      " 'Greater Gijón Metropolitan Area' 'Kortrijk Metropolitan Area' 'Slovenia'\n",
      " 'Romania' 'Denmark' 'Greater Rome Metropolitan Area'\n",
      " 'Greater Zurich Area' 'Namur Metropolitan Area'\n",
      " 'Greater Barcelona Metropolitan Area' 'Greater Turin Metropolitan Area'\n",
      " 'Brussels Metropolitan Area' 'Greater Paris Metropolitan Region'\n",
      " 'Antwerp Metropolitan Area' 'Warsaw Metropolitan Area' 'Austria'\n",
      " 'Greater Genoa Metropolitan Area' 'Liege Metropolitan Area'\n",
      " 'Louvain Metropolitan Area' 'Lithuania' 'Italy Metropolitan Area'\n",
      " 'Athens Metropolitan Area']\n"
     ]
    }
   ],
   "source": [
    "# Посмотрим пропуски и уникальные имена стран\n",
    "for column in df_sorted:  \n",
    "    row = df_sorted[column].isna().sum()\n",
    "    print('{} : {} / {:.0%}'.format(column, row, row / len(df_sorted)))\n",
    "    \n",
    "print('---------------------------')\n",
    "print('Уникальные имена стран:\\n{}'.format(df_sorted['country'].unique()))"
   ]
  },
  {
   "cell_type": "markdown",
   "metadata": {},
   "source": [
    "- В странах присутсвуют приставки областей, районов.\n",
    "- Пропуски городов обработаем заменой"
   ]
  },
  {
   "cell_type": "code",
   "execution_count": 11,
   "metadata": {},
   "outputs": [],
   "source": [
    "# Уберем пропуски городов\n",
    "df_sorted['city'].fillna('unknown', inplace=True)"
   ]
  },
  {
   "cell_type": "code",
   "execution_count": 12,
   "metadata": {},
   "outputs": [
    {
     "data": {
      "text/plain": [
       "array(['Sweden', 'Belgium', 'Germany', 'France', 'Hungary',\n",
       "       'Przemyśl Metropolitan Area', 'Gibraltar', 'Poland',\n",
       "       'Radom Metropolitan Area', 'United Kingdom', 'Finland',\n",
       "       'Switzerland', 'Netherlands', 'Norway', 'Italy', 'Czechia',\n",
       "       'Bulgaria', 'Slovakia', 'Portugal', 'Spain', 'Romania',\n",
       "       'Luxembourg', 'Ireland', 'Croatia', 'Slovenia', 'Denmark',\n",
       "       'Austria', 'Lithuania', 'Greece'], dtype=object)"
      ]
     },
     "execution_count": 12,
     "metadata": {},
     "output_type": "execute_result"
    }
   ],
   "source": [
    "# Чтобы получить названия стран по названиям местности, воспользуемся сервисом geonames\n",
    "def get_country_from(cell):\n",
    "    if 'Greater' in cell:\n",
    "        city_name = cell.split()[1].strip()\n",
    "        response = requests.request(\"GET\", f\"https://www.geonames.org/search.html?q={city_name}&country=\")\n",
    "        country = BeautifulSoup(response.text).find_all('a')[9].text\n",
    "        if country:\n",
    "            return country\n",
    "        else: \n",
    "            return cell\n",
    "    elif 'Area' in cell:\n",
    "        city_name = cell.split()[0].strip()\n",
    "        response = requests.request(\"GET\", f\"https://www.geonames.org/search.html?q={city_name}&country=\")\n",
    "        country = BeautifulSoup(response.text).find_all('a')[9].text\n",
    "        if country:\n",
    "            return country\n",
    "        else:\n",
    "            return cell\n",
    "    else:\n",
    "        return cell\n",
    "\n",
    "df_sorted['country'] = df_sorted['country'].apply(get_country_from)\n",
    "df_sorted['country'].unique()"
   ]
  },
  {
   "cell_type": "code",
   "execution_count": 13,
   "metadata": {},
   "outputs": [],
   "source": [
    "# Заменим то, что не сработало\n",
    "df_sorted.loc[df_sorted['country'] =='Przemyśl Metropolitan Area', 'country']= 'Poland'\n",
    "df_sorted.loc[df_sorted['country'] =='Radom Metropolitan Area', 'country']= 'Poland'"
   ]
  },
  {
   "cell_type": "code",
   "execution_count": 14,
   "metadata": {},
   "outputs": [],
   "source": [
    "# Для дальнейшей визуализации потребуются географические координаты. Выделим их.\n",
    "geolocator = Nominatim(user_agent = 'your_app')\n",
    "\n",
    "# Широта\n",
    "def get_latitude(cell):\n",
    "    try:\n",
    "        location = geolocator.geocode(cell)\n",
    "        return location.latitude\n",
    "    except:\n",
    "        return np.nan\n",
    "\n",
    "# Долгота\n",
    "def get_longitude(cell):\n",
    "    try:\n",
    "        location = geolocator.geocode(cell)\n",
    "        return location.longitude\n",
    "    except:\n",
    "        return np.nan\n",
    "\n",
    "df_sorted['latitude'] = df_sorted['geo'].apply(get_latitude)\n",
    "df_sorted['longitude'] = df_sorted['geo'].apply(get_longitude)"
   ]
  },
  {
   "cell_type": "code",
   "execution_count": 15,
   "metadata": {
    "scrolled": true
   },
   "outputs": [
    {
     "name": "stdout",
     "output_type": "stream",
     "text": [
      "Количество пропусков в долготе/ширине: 31\n",
      "---------------------------\n"
     ]
    },
    {
     "data": {
      "text/html": [
       "<div>\n",
       "<style scoped>\n",
       "    .dataframe tbody tr th:only-of-type {\n",
       "        vertical-align: middle;\n",
       "    }\n",
       "\n",
       "    .dataframe tbody tr th {\n",
       "        vertical-align: top;\n",
       "    }\n",
       "\n",
       "    .dataframe thead th {\n",
       "        text-align: right;\n",
       "    }\n",
       "</style>\n",
       "<table border=\"1\" class=\"dataframe\">\n",
       "  <thead>\n",
       "    <tr style=\"text-align: right;\">\n",
       "      <th></th>\n",
       "      <th>html</th>\n",
       "      <th>title</th>\n",
       "      <th>link</th>\n",
       "      <th>geo</th>\n",
       "      <th>city</th>\n",
       "      <th>country</th>\n",
       "      <th>latitude</th>\n",
       "      <th>longitude</th>\n",
       "    </tr>\n",
       "  </thead>\n",
       "  <tbody>\n",
       "    <tr>\n",
       "      <th>6</th>\n",
       "      <td>\\n  &lt;div&gt;\\n    &lt;div class=\"\\n        jobs-deta...</td>\n",
       "      <td>Data Analyst</td>\n",
       "      <td>https://linkedin.com/jobs/view/3257247449/?alt...</td>\n",
       "      <td>Przemyśl Metropolitan Area</td>\n",
       "      <td>Przemyśl</td>\n",
       "      <td>Poland</td>\n",
       "      <td>NaN</td>\n",
       "      <td>NaN</td>\n",
       "    </tr>\n",
       "    <tr>\n",
       "      <th>14</th>\n",
       "      <td>\\n  &lt;div&gt;\\n    &lt;div class=\"\\n        jobs-deta...</td>\n",
       "      <td>Data Analyst</td>\n",
       "      <td>https://linkedin.com/jobs/view/3257240118/?alt...</td>\n",
       "      <td>Grudziadz Metropolitan Area</td>\n",
       "      <td>Grudziadz</td>\n",
       "      <td>Poland</td>\n",
       "      <td>NaN</td>\n",
       "      <td>NaN</td>\n",
       "    </tr>\n",
       "  </tbody>\n",
       "</table>\n",
       "</div>"
      ],
      "text/plain": [
       "                                                 html         title  \\\n",
       "6   \\n  <div>\\n    <div class=\"\\n        jobs-deta...  Data Analyst   \n",
       "14  \\n  <div>\\n    <div class=\"\\n        jobs-deta...  Data Analyst   \n",
       "\n",
       "                                                 link  \\\n",
       "6   https://linkedin.com/jobs/view/3257247449/?alt...   \n",
       "14  https://linkedin.com/jobs/view/3257240118/?alt...   \n",
       "\n",
       "                            geo       city country  latitude  longitude  \n",
       "6    Przemyśl Metropolitan Area   Przemyśl  Poland       NaN        NaN  \n",
       "14  Grudziadz Metropolitan Area  Grudziadz  Poland       NaN        NaN  "
      ]
     },
     "execution_count": 15,
     "metadata": {},
     "output_type": "execute_result"
    }
   ],
   "source": [
    "# Есть ли пропуск\n",
    "print('Количество пропусков в долготе/ширине:', df_sorted['latitude'].isna().sum())\n",
    "print('---------------------------')\n",
    "df_sorted[df_sorted['latitude'].isna()].head(2)"
   ]
  },
  {
   "cell_type": "markdown",
   "metadata": {},
   "source": [
    "Пропуски- это области, регионы в geo. Город, мы выделяли из названия области.\n",
    "\n",
    "Выделим количество кандидатов- candidats, название компании- company, тип занятости- employment."
   ]
  },
  {
   "cell_type": "code",
   "execution_count": 16,
   "metadata": {},
   "outputs": [],
   "source": [
    "# Выберем элементы из карточки компании\n",
    "def span_element(df, class_name):\n",
    "    soup = BeautifulSoup(df, 'lxml')\n",
    "    general_info = soup.find_all('div', class_='jobs-unified-top-card__content--two-pane')\n",
    "    for row in general_info:\n",
    "      element = [element.text.strip() for element in row.find_all('span', class_=class_name, limit=1)]\n",
    "      element = ''.join(element)\n",
    "      return element"
   ]
  },
  {
   "cell_type": "markdown",
   "metadata": {},
   "source": [
    "## Количество кандидатов - candidats"
   ]
  },
  {
   "cell_type": "code",
   "execution_count": 17,
   "metadata": {},
   "outputs": [
    {
     "data": {
      "text/plain": [
       "array(['12 applicants', '11 applicants', '2 applicants', '4 applicants',\n",
       "       '25 applicants', '', '7 applicants', '14 applicants',\n",
       "       '30 applicants', '26 applicants', '10 applicants', '9 applicants',\n",
       "       '3 applicants', '23 applicants', '5 applicants', '49 applicants',\n",
       "       '13 applicants', '31 applicants', '44 applicants', '15 applicants',\n",
       "       '21 applicants', '6 applicants', '33 applicants', '29 applicants',\n",
       "       '17 applicants', '8 applicants', '62 applicants', '50 applicants',\n",
       "       '32 applicants', '36 applicants', '65 applicants', '1 applicant',\n",
       "       '20 applicants', '28 applicants', '63 applicants', '75 applicants',\n",
       "       '38 applicants', '24 applicants', '85 applicants', '22 applicants',\n",
       "       '57 applicants', '79 applicants', '107 applicants',\n",
       "       '42 applicants', '40 applicants', '73 applicants',\n",
       "       '167 applicants', '78 applicants', '70 applicants',\n",
       "       '16 applicants', '67 applicants', '56 applicants', '35 applicants',\n",
       "       '60 applicants', '48 applicants', '19 applicants', '76 applicants',\n",
       "       '41 applicants', '18 applicants', '108 applicants',\n",
       "       '144 applicants', '55 applicants', '98 applicants',\n",
       "       '92 applicants', '34 applicants', '109 applicants',\n",
       "       '111 applicants', '45 applicants', '88 applicants',\n",
       "       '93 applicants', '43 applicants', '27 applicants', '61 applicants',\n",
       "       '147 applicants', '52 applicants', '137 applicants',\n",
       "       '54 applicants', '66 applicants', '37 applicants', '94 applicants',\n",
       "       '148 applicants', '169 applicants', '71 applicants',\n",
       "       '110 applicants'], dtype=object)"
      ]
     },
     "execution_count": 17,
     "metadata": {},
     "output_type": "execute_result"
    }
   ],
   "source": [
    "# Выделим количество кандидатов- candidats\n",
    "df_sorted['candidats'] = df_sorted['html'].apply(lambda x: span_element(x, class_name='jobs-unified-top-card__applicant-count'))\n",
    "df_sorted['candidats'].unique()"
   ]
  },
  {
   "cell_type": "code",
   "execution_count": 18,
   "metadata": {
    "scrolled": true
   },
   "outputs": [
    {
     "data": {
      "text/plain": [
       "<IntegerArray>\n",
       "[ 12,  11,   2,   4,  25,   0,   7,  14,  30,  26,  10,   9,   3,  23,   5,\n",
       "  49,  13,  31,  44,  15,  21,   6,  33,  29,  17,   8,  62,  50,  32,  36,\n",
       "  65,   1,  20,  28,  63,  75,  38,  24,  85,  22,  57,  79, 107,  42,  40,\n",
       "  73, 167,  78,  70,  16,  67,  56,  35,  60,  48,  19,  76,  41,  18, 108,\n",
       " 144,  55,  98,  92,  34, 109, 111,  45,  88,  93,  43,  27,  61, 147,  52,\n",
       " 137,  54,  66,  37,  94, 148, 169,  71, 110]\n",
       "Length: 84, dtype: Int64"
      ]
     },
     "execution_count": 18,
     "metadata": {},
     "output_type": "execute_result"
    }
   ],
   "source": [
    "# Заменим строчный пропуск\n",
    "df_sorted.loc[df_sorted['candidats'] == '', 'candidats'] = None\n",
    "\n",
    "# Уберем слово \"applicants\" и преобразуем тип.\n",
    "df_sorted['candidats'] = df_sorted['candidats'].str.replace(r'\\D', '', regex=True).astype('Int64')\n",
    "df_sorted['candidats'].fillna(0, inplace=True)\n",
    "df_sorted['candidats'].unique()"
   ]
  },
  {
   "cell_type": "markdown",
   "metadata": {},
   "source": [
    "У нас есть пропуски в данных- количество кандидатов. Это может быть обусловлено свежестью размещения вакансии, на которую еще никто не успел откликнуться.    \n",
    "А чтобы привести тип данных к целочисленному, даже если в столбце есть пропуски испльзуем astype('Int64')"
   ]
  },
  {
   "cell_type": "markdown",
   "metadata": {},
   "source": [
    "## Тип занятости - employment"
   ]
  },
  {
   "cell_type": "code",
   "execution_count": 19,
   "metadata": {},
   "outputs": [
    {
     "data": {
      "text/plain": [
       "array(['Remote', 'On-site', 'Hybrid', ''], dtype=object)"
      ]
     },
     "execution_count": 19,
     "metadata": {},
     "output_type": "execute_result"
    }
   ],
   "source": [
    "# Выделим тип занятости- employment\n",
    "df_sorted['employment'] = df_sorted['html'].apply(lambda x: span_element(x, class_name='jobs-unified-top-card__workplace-type'))\n",
    "df_sorted['employment'].unique()"
   ]
  },
  {
   "cell_type": "code",
   "execution_count": 20,
   "metadata": {},
   "outputs": [
    {
     "data": {
      "text/plain": [
       "array(['Remote', 'On-site', 'Hybrid', 'unknown'], dtype=object)"
      ]
     },
     "execution_count": 20,
     "metadata": {},
     "output_type": "execute_result"
    }
   ],
   "source": [
    "# Заменим пропуски \n",
    "df_sorted['employment'].replace('', 'unknown', inplace=True)\n",
    "df_sorted['employment'].fillna('unknown', inplace=True)\n",
    "df_sorted['employment'].unique()"
   ]
  },
  {
   "cell_type": "markdown",
   "metadata": {},
   "source": [
    "## Название компании - company"
   ]
  },
  {
   "cell_type": "code",
   "execution_count": 21,
   "metadata": {
    "scrolled": true
   },
   "outputs": [
    {
     "name": "stdout",
     "output_type": "stream",
     "text": [
      "Количество дубликатов в столбце company: 153\n",
      "---------------------------\n",
      "Количество пропусков в столбце company: 0\n"
     ]
    }
   ],
   "source": [
    "# Выделим название компании- company\n",
    "df_sorted['company'] = df_sorted['html'].apply(lambda x: span_element(x, class_name='jobs-unified-top-card__company-name'))\n",
    "print('Количество дубликатов в столбце company:', df_sorted['company'].duplicated().sum())\n",
    "print('---------------------------')\n",
    "print('Количество пропусков в столбце company:', df_sorted['company'].isna().sum())"
   ]
  },
  {
   "cell_type": "markdown",
   "metadata": {},
   "source": [
    "153 компании дублируются. Вероятно, у одной компании несколько вакансий.\n",
    "## Дата публикации - publication date"
   ]
  },
  {
   "cell_type": "code",
   "execution_count": 22,
   "metadata": {},
   "outputs": [
    {
     "name": "stdout",
     "output_type": "stream",
     "text": [
      "2022-09-07 17:00:00\n"
     ]
    },
    {
     "data": {
      "text/html": [
       "<div>\n",
       "<style scoped>\n",
       "    .dataframe tbody tr th:only-of-type {\n",
       "        vertical-align: middle;\n",
       "    }\n",
       "\n",
       "    .dataframe tbody tr th {\n",
       "        vertical-align: top;\n",
       "    }\n",
       "\n",
       "    .dataframe thead th {\n",
       "        text-align: right;\n",
       "    }\n",
       "</style>\n",
       "<table border=\"1\" class=\"dataframe\">\n",
       "  <thead>\n",
       "    <tr style=\"text-align: right;\">\n",
       "      <th></th>\n",
       "      <th>html</th>\n",
       "      <th>title</th>\n",
       "      <th>link</th>\n",
       "      <th>geo</th>\n",
       "      <th>city</th>\n",
       "      <th>country</th>\n",
       "      <th>latitude</th>\n",
       "      <th>longitude</th>\n",
       "      <th>candidats</th>\n",
       "      <th>employment</th>\n",
       "      <th>company</th>\n",
       "      <th>publication_date</th>\n",
       "    </tr>\n",
       "  </thead>\n",
       "  <tbody>\n",
       "    <tr>\n",
       "      <th>243</th>\n",
       "      <td>\\n  &lt;div&gt;\\n    &lt;div class=\"\\n        jobs-deta...</td>\n",
       "      <td>Internet Analyst (Remote Set-up)</td>\n",
       "      <td>https://linkedin.com/jobs/view/3249552448/?alt...</td>\n",
       "      <td>Cracow, Małopolskie, Poland</td>\n",
       "      <td>Cracow</td>\n",
       "      <td>Poland</td>\n",
       "      <td>50.060674</td>\n",
       "      <td>19.937139</td>\n",
       "      <td>8</td>\n",
       "      <td>Remote</td>\n",
       "      <td>TELUS International AI Data Solutions</td>\n",
       "      <td>2022-09-02 17:00:00</td>\n",
       "    </tr>\n",
       "    <tr>\n",
       "      <th>216</th>\n",
       "      <td>\\n  &lt;div&gt;\\n    &lt;div class=\"\\n        jobs-deta...</td>\n",
       "      <td>Junior Analyst (J12997)</td>\n",
       "      <td>https://linkedin.com/jobs/view/3248177345/?alt...</td>\n",
       "      <td>France</td>\n",
       "      <td>unknown</td>\n",
       "      <td>France</td>\n",
       "      <td>46.603354</td>\n",
       "      <td>1.888334</td>\n",
       "      <td>60</td>\n",
       "      <td>Remote</td>\n",
       "      <td>Pareto</td>\n",
       "      <td>2022-09-02 17:00:00</td>\n",
       "    </tr>\n",
       "  </tbody>\n",
       "</table>\n",
       "</div>"
      ],
      "text/plain": [
       "                                                  html  \\\n",
       "243  \\n  <div>\\n    <div class=\"\\n        jobs-deta...   \n",
       "216  \\n  <div>\\n    <div class=\"\\n        jobs-deta...   \n",
       "\n",
       "                                title  \\\n",
       "243  Internet Analyst (Remote Set-up)   \n",
       "216           Junior Analyst (J12997)   \n",
       "\n",
       "                                                  link  \\\n",
       "243  https://linkedin.com/jobs/view/3249552448/?alt...   \n",
       "216  https://linkedin.com/jobs/view/3248177345/?alt...   \n",
       "\n",
       "                             geo     city country   latitude  longitude  \\\n",
       "243  Cracow, Małopolskie, Poland   Cracow  Poland  50.060674  19.937139   \n",
       "216                       France  unknown  France  46.603354   1.888334   \n",
       "\n",
       "     candidats employment                                company  \\\n",
       "243          8     Remote  TELUS International AI Data Solutions   \n",
       "216         60     Remote                                 Pareto   \n",
       "\n",
       "       publication_date  \n",
       "243 2022-09-02 17:00:00  \n",
       "216 2022-09-02 17:00:00  "
      ]
     },
     "execution_count": 22,
     "metadata": {},
     "output_type": "execute_result"
    }
   ],
   "source": [
    "# Выделим дату публикации- publication date до `2022-09-07 17:00:00`\n",
    "parse_date_time = dt.datetime(2022, 9, 7, 17, 0, 0)\n",
    "print(parse_date_time)\n",
    "\n",
    "\n",
    "def get_date_time(cell):\n",
    "    time_info = BeautifulSoup(cell).find('span', class_ = 'jobs-unified-top-card__posted-date').text.strip()\n",
    "    time_unit_name = time_info.split(' ')[1]\n",
    "    time_unit = int(time_info.split(' ')[0])\n",
    "    if time_unit_name in ['seconds', 'second']:\n",
    "        return parse_date_time - dt.timedelta(seconds=time_unit)\n",
    "    elif time_unit_name in ['minutes', 'minute']:\n",
    "        return parse_date_time - dt.timedelta(minutes=time_unit)\n",
    "    elif time_unit_name in ['hours', 'hour']:\n",
    "        return parse_date_time - dt.timedelta(hours=time_unit)\n",
    "    elif time_unit_name in ['days', 'day']:\n",
    "        return parse_date_time - dt.timedelta(days=time_unit)\n",
    "    elif time_unit_name in ['weeks', 'week']:\n",
    "        return parse_date_time - dt.timedelta(weeks=time_unit)\n",
    "    else:\n",
    "        return np.nan\n",
    "df_sorted['publication_date'] = df_sorted['html'].apply(get_date_time)\n",
    "df_sorted.sample(2)"
   ]
  },
  {
   "cell_type": "markdown",
   "metadata": {},
   "source": [
    "Вариант обработки даты\n",
    "\n",
    "if 'day' in string:\n",
    "    days_ago = int(''.join([x for x in string if x.isdigit()]))\n",
    "    return date_of_parsing - timedelta(days = days_ago)\n",
    "\n",
    "elif 'hours' in string:\n",
    "    hours_ago = int(''.join([x for x in string if x.isdigit()]))\n",
    "    return date_of_parsing - timedelta(hours = hours_ago)\n",
    "    \n",
    "else:\n",
    "    week_ago = int(''.join([x for x in string if x.isdigit()]))\n",
    "    return date_of_parsing - timedelta(weeks = week_ago)"
   ]
  },
  {
   "cell_type": "code",
   "execution_count": 23,
   "metadata": {},
   "outputs": [
    {
     "data": {
      "text/plain": [
       "count                              362\n",
       "mean     2022-09-04 19:16:52.707182592\n",
       "min                2022-08-31 17:00:00\n",
       "25%                2022-09-02 17:00:00\n",
       "50%                2022-09-05 17:00:00\n",
       "75%                2022-09-06 17:00:00\n",
       "max                2022-09-07 16:50:00\n",
       "Name: publication_date, dtype: object"
      ]
     },
     "execution_count": 23,
     "metadata": {},
     "output_type": "execute_result"
    }
   ],
   "source": [
    "df_sorted['publication_date'].describe(datetime_is_numeric=True)"
   ]
  },
  {
   "cell_type": "code",
   "execution_count": 24,
   "metadata": {},
   "outputs": [
    {
     "data": {
      "text/html": [
       "<div>\n",
       "<style scoped>\n",
       "    .dataframe tbody tr th:only-of-type {\n",
       "        vertical-align: middle;\n",
       "    }\n",
       "\n",
       "    .dataframe tbody tr th {\n",
       "        vertical-align: top;\n",
       "    }\n",
       "\n",
       "    .dataframe thead th {\n",
       "        text-align: right;\n",
       "    }\n",
       "</style>\n",
       "<table border=\"1\" class=\"dataframe\">\n",
       "  <thead>\n",
       "    <tr style=\"text-align: right;\">\n",
       "      <th></th>\n",
       "      <th>html</th>\n",
       "      <th>title</th>\n",
       "      <th>link</th>\n",
       "      <th>geo</th>\n",
       "      <th>city</th>\n",
       "      <th>country</th>\n",
       "      <th>latitude</th>\n",
       "      <th>longitude</th>\n",
       "      <th>candidats</th>\n",
       "      <th>employment</th>\n",
       "      <th>company</th>\n",
       "      <th>publication_date</th>\n",
       "      <th>size_field</th>\n",
       "    </tr>\n",
       "  </thead>\n",
       "  <tbody>\n",
       "    <tr>\n",
       "      <th>286</th>\n",
       "      <td>\\n  &lt;div&gt;\\n    &lt;div class=\"\\n        jobs-deta...</td>\n",
       "      <td>Customer Ledger Data Analyst</td>\n",
       "      <td>https://linkedin.com/jobs/view/3254329032/?alt...</td>\n",
       "      <td>Stockport, England, United Kingdom</td>\n",
       "      <td>Stockport</td>\n",
       "      <td>United Kingdom</td>\n",
       "      <td>53.407901</td>\n",
       "      <td>-2.160243</td>\n",
       "      <td>0</td>\n",
       "      <td>On-site</td>\n",
       "      <td>Birnbach Communications</td>\n",
       "      <td>2022-09-06 17:00:00</td>\n",
       "      <td>NaN</td>\n",
       "    </tr>\n",
       "  </tbody>\n",
       "</table>\n",
       "</div>"
      ],
      "text/plain": [
       "                                                  html  \\\n",
       "286  \\n  <div>\\n    <div class=\"\\n        jobs-deta...   \n",
       "\n",
       "                            title  \\\n",
       "286  Customer Ledger Data Analyst   \n",
       "\n",
       "                                                  link  \\\n",
       "286  https://linkedin.com/jobs/view/3254329032/?alt...   \n",
       "\n",
       "                                    geo       city         country   latitude  \\\n",
       "286  Stockport, England, United Kingdom  Stockport  United Kingdom  53.407901   \n",
       "\n",
       "     longitude  candidats employment                  company  \\\n",
       "286  -2.160243          0    On-site  Birnbach Communications   \n",
       "\n",
       "       publication_date size_field  \n",
       "286 2022-09-06 17:00:00        NaN  "
      ]
     },
     "execution_count": 24,
     "metadata": {},
     "output_type": "execute_result"
    }
   ],
   "source": [
    "# Выделим размер компании и сферу деятельности\n",
    "def size_field_of_activity(cell):\n",
    "    try:\n",
    "        return BeautifulSoup(cell).find('div', class_ = 'mt5 mb2').find_all('li')[1].text.strip()\n",
    "    except:\n",
    "        return np.nan\n",
    "df_sorted['size_field'] = df_sorted['html'].apply(size_field_of_activity)\n",
    "\n",
    "# Посмотрим есть ли пропуск\n",
    "df_sorted.query('size_field.isna()')"
   ]
  },
  {
   "cell_type": "code",
   "execution_count": 25,
   "metadata": {},
   "outputs": [
    {
     "data": {
      "text/plain": [
       "'https://linkedin.com/jobs/view/3254329032/?alternateChannel=search&refId=hoEkNmylbSwHUlyIHRvzIQ%3D%3D&trackingId=SwUmzWKVnKM6fhDoWNcdtw%3D%3D&trk=d_flagship3_search_srp_jobs'"
      ]
     },
     "execution_count": 25,
     "metadata": {},
     "output_type": "execute_result"
    }
   ],
   "source": [
    "# Вытащим ссылку, посмотрим вакансию\n",
    "df_sorted.iloc[286]['link']"
   ]
  },
  {
   "cell_type": "code",
   "execution_count": 26,
   "metadata": {},
   "outputs": [
    {
     "data": {
      "text/plain": [
       "0"
      ]
     },
     "execution_count": 26,
     "metadata": {},
     "output_type": "execute_result"
    }
   ],
   "source": [
    "# Заполним пропуск\n",
    "df_sorted['size_field'].fillna('1-10 employees · Public Relations and Communications Services', inplace=True)\n",
    "\n",
    "# Проверим, остались ли пропуски\n",
    "df_sorted['size_field'].isna().sum()"
   ]
  },
  {
   "cell_type": "markdown",
   "metadata": {},
   "source": [
    "## Размер компании - company_size"
   ]
  },
  {
   "cell_type": "code",
   "execution_count": 27,
   "metadata": {},
   "outputs": [
    {
     "name": "stdout",
     "output_type": "stream",
     "text": [
      "Количество пропусков в столбце company_size: 0\n",
      "---------------------------\n",
      "Уникальные значения в столбце company_size:\n",
      " ['10001+' '201-500' '1001-5000' '51-200' '5001-10000' '501-1000' '11-50'\n",
      " '1-10' 'unknown']\n"
     ]
    }
   ],
   "source": [
    "# Выделим размер компании (количество работников)\n",
    "def company_size(cell):\n",
    "    if 'employees' in cell:\n",
    "        cell = cell.partition(' employees')[0].replace(',', '')\n",
    "        return cell \n",
    "    else:\n",
    "        return 'unknown'\n",
    "    \n",
    "df_sorted['company_size'] = df_sorted['size_field'].apply(company_size)\n",
    "\n",
    "print('Количество пропусков в столбце company_size:', df_sorted['company_size'].isna().sum())\n",
    "print('---------------------------')\n",
    "print('Уникальные значения в столбце company_size:\\n', df_sorted['company_size'].unique())"
   ]
  },
  {
   "cell_type": "markdown",
   "metadata": {},
   "source": [
    "На сайте нет инфомации для заполнения. Оставляем так"
   ]
  },
  {
   "cell_type": "code",
   "execution_count": 28,
   "metadata": {},
   "outputs": [
    {
     "data": {
      "text/plain": [
       "large      188\n",
       "small       98\n",
       "medium      65\n",
       "unknown     11\n",
       "Name: company_size_category, dtype: int64"
      ]
     },
     "execution_count": 28,
     "metadata": {},
     "output_type": "execute_result"
    }
   ],
   "source": [
    "# Категоризуем компании по размеру\n",
    "def size_category(col):\n",
    "    if ('1-10' in col) | ('11-50' in col):\n",
    "        return 'small'\n",
    "    if ('51-200' in col) | ('201-500' in col):\n",
    "        return 'medium'\n",
    "    if ('10001+' in col) | ('1001-5000' in col) | (\n",
    "            '5001-10000' in col) | ('501-1000' in col):\n",
    "        return 'large'\n",
    "    return 'unknown'\n",
    "df_sorted['company_size_category'] = df_sorted['company_size'].apply(size_category)\n",
    "df_sorted['company_size_category'].value_counts()"
   ]
  },
  {
   "cell_type": "markdown",
   "metadata": {},
   "source": [
    "## Сфера деятельности компании - field_of_activity"
   ]
  },
  {
   "cell_type": "code",
   "execution_count": 29,
   "metadata": {},
   "outputs": [
    {
     "name": "stdout",
     "output_type": "stream",
     "text": [
      "Количество пропусков в столбце field_of_activity: 18\n"
     ]
    }
   ],
   "source": [
    "# Выделим сферу деятельности компании\n",
    "def field_of_activity (cell):\n",
    "    if 'Premium' in cell:\n",
    "        return 'unknown'\n",
    "    if ('employees' in cell) and ('·' not in cell):\n",
    "        return 'unknown'\n",
    "    if '·' in cell:\n",
    "        cell = cell.partition('· ')[2]\n",
    "        return cell\n",
    "    else:\n",
    "        return cell\n",
    "\n",
    "df_sorted['field_of_activity'] = df_sorted['size_field'].apply(field_of_activity)\n",
    "\n",
    "print('Количество пропусков в столбце field_of_activity:', \n",
    "df_sorted.loc[df_sorted['field_of_activity'] == 'unknown', 'field_of_activity'].count())\n"
   ]
  },
  {
   "cell_type": "code",
   "execution_count": 30,
   "metadata": {},
   "outputs": [
    {
     "data": {
      "text/html": [
       "<div>\n",
       "<style scoped>\n",
       "    .dataframe tbody tr th:only-of-type {\n",
       "        vertical-align: middle;\n",
       "    }\n",
       "\n",
       "    .dataframe tbody tr th {\n",
       "        vertical-align: top;\n",
       "    }\n",
       "\n",
       "    .dataframe thead th {\n",
       "        text-align: right;\n",
       "    }\n",
       "</style>\n",
       "<table border=\"1\" class=\"dataframe\">\n",
       "  <thead>\n",
       "    <tr style=\"text-align: right;\">\n",
       "      <th></th>\n",
       "      <th>html</th>\n",
       "      <th>title</th>\n",
       "      <th>link</th>\n",
       "      <th>geo</th>\n",
       "      <th>city</th>\n",
       "      <th>country</th>\n",
       "      <th>latitude</th>\n",
       "      <th>longitude</th>\n",
       "      <th>candidats</th>\n",
       "      <th>employment</th>\n",
       "      <th>company</th>\n",
       "      <th>publication_date</th>\n",
       "      <th>size_field</th>\n",
       "      <th>company_size</th>\n",
       "      <th>company_size_category</th>\n",
       "      <th>field_of_activity</th>\n",
       "    </tr>\n",
       "  </thead>\n",
       "  <tbody>\n",
       "    <tr>\n",
       "      <th>165</th>\n",
       "      <td>\\n  &lt;div&gt;\\n    &lt;div class=\"\\n        jobs-deta...</td>\n",
       "      <td>Data Analyst H/F</td>\n",
       "      <td>https://linkedin.com/jobs/view/3248992469/?alt...</td>\n",
       "      <td>Hérault, Occitanie, France</td>\n",
       "      <td>Hérault</td>\n",
       "      <td>France</td>\n",
       "      <td>43.591422</td>\n",
       "      <td>3.355331</td>\n",
       "      <td>3</td>\n",
       "      <td>On-site</td>\n",
       "      <td>EPSI - L'école d'ingénierie informatique</td>\n",
       "      <td>2022-09-01 17:00:00</td>\n",
       "      <td>51-200 employees · Education Administration Pr...</td>\n",
       "      <td>51-200</td>\n",
       "      <td>medium</td>\n",
       "      <td>Education Administration Programs</td>\n",
       "    </tr>\n",
       "    <tr>\n",
       "      <th>137</th>\n",
       "      <td>\\n  &lt;div&gt;\\n    &lt;div class=\"\\n        jobs-deta...</td>\n",
       "      <td>Data Analyst</td>\n",
       "      <td>https://linkedin.com/jobs/view/3223529005/?alt...</td>\n",
       "      <td>Birmingham, England, United Kingdom</td>\n",
       "      <td>Birmingham</td>\n",
       "      <td>United Kingdom</td>\n",
       "      <td>52.479699</td>\n",
       "      <td>-1.902691</td>\n",
       "      <td>67</td>\n",
       "      <td>unknown</td>\n",
       "      <td>Balfour Beatty plc</td>\n",
       "      <td>2022-09-06 17:00:00</td>\n",
       "      <td>10,001+ employees · Construction</td>\n",
       "      <td>10001+</td>\n",
       "      <td>large</td>\n",
       "      <td>Construction</td>\n",
       "    </tr>\n",
       "  </tbody>\n",
       "</table>\n",
       "</div>"
      ],
      "text/plain": [
       "                                                  html             title  \\\n",
       "165  \\n  <div>\\n    <div class=\"\\n        jobs-deta...  Data Analyst H/F   \n",
       "137  \\n  <div>\\n    <div class=\"\\n        jobs-deta...      Data Analyst   \n",
       "\n",
       "                                                  link  \\\n",
       "165  https://linkedin.com/jobs/view/3248992469/?alt...   \n",
       "137  https://linkedin.com/jobs/view/3223529005/?alt...   \n",
       "\n",
       "                                     geo        city         country  \\\n",
       "165           Hérault, Occitanie, France     Hérault          France   \n",
       "137  Birmingham, England, United Kingdom  Birmingham  United Kingdom   \n",
       "\n",
       "      latitude  longitude  candidats employment  \\\n",
       "165  43.591422   3.355331          3    On-site   \n",
       "137  52.479699  -1.902691         67    unknown   \n",
       "\n",
       "                                      company    publication_date  \\\n",
       "165  EPSI - L'école d'ingénierie informatique 2022-09-01 17:00:00   \n",
       "137                        Balfour Beatty plc 2022-09-06 17:00:00   \n",
       "\n",
       "                                            size_field company_size  \\\n",
       "165  51-200 employees · Education Administration Pr...       51-200   \n",
       "137                   10,001+ employees · Construction       10001+   \n",
       "\n",
       "    company_size_category                  field_of_activity  \n",
       "165                medium  Education Administration Programs  \n",
       "137                 large                       Construction  "
      ]
     },
     "metadata": {},
     "output_type": "display_data"
    },
    {
     "name": "stdout",
     "output_type": "stream",
     "text": [
      "---------------------------\n",
      "Количество дубликатов: 0\n",
      "---------------------------\n",
      "<class 'pandas.core.frame.DataFrame'>\n",
      "RangeIndex: 362 entries, 0 to 361\n",
      "Data columns (total 16 columns):\n",
      " #   Column                 Non-Null Count  Dtype         \n",
      "---  ------                 --------------  -----         \n",
      " 0   html                   362 non-null    object        \n",
      " 1   title                  362 non-null    object        \n",
      " 2   link                   362 non-null    object        \n",
      " 3   geo                    362 non-null    object        \n",
      " 4   city                   362 non-null    object        \n",
      " 5   country                362 non-null    object        \n",
      " 6   latitude               331 non-null    float64       \n",
      " 7   longitude              331 non-null    float64       \n",
      " 8   candidats              362 non-null    Int64         \n",
      " 9   employment             362 non-null    object        \n",
      " 10  company                362 non-null    object        \n",
      " 11  publication_date       362 non-null    datetime64[ns]\n",
      " 12  size_field             362 non-null    object        \n",
      " 13  company_size           362 non-null    object        \n",
      " 14  company_size_category  362 non-null    object        \n",
      " 15  field_of_activity      362 non-null    object        \n",
      "dtypes: Int64(1), datetime64[ns](1), float64(2), object(12)\n",
      "memory usage: 45.7+ KB\n"
     ]
    }
   ],
   "source": [
    "# Сохраним файл в Tableau\n",
    "df_sorted[['title', 'city', 'country', 'latitude', 'longitude']].to_csv('geo.csv', index = False)\n",
    "df_sorted.to_csv('full_project.csv')\n",
    "display(df_sorted.sample(2))\n",
    "print('---------------------------')\n",
    "print('Количество дубликатов:', df_sorted.duplicated().sum())\n",
    "print('---------------------------')\n",
    "df_sorted.info()"
   ]
  },
  {
   "cell_type": "markdown",
   "metadata": {},
   "source": [
    "## Описание вакансии - description"
   ]
  },
  {
   "cell_type": "code",
   "execution_count": 31,
   "metadata": {},
   "outputs": [],
   "source": [
    "# Вытащим описание вакансии\n",
    "df_sorted['description'] = df_sorted['html'].apply(lambda x: BeautifulSoup(x).find('div', {'id':'job-details'}).text.strip())"
   ]
  },
  {
   "cell_type": "markdown",
   "metadata": {},
   "source": [
    "## Хард скилы - skills"
   ]
  },
  {
   "cell_type": "code",
   "execution_count": 32,
   "metadata": {},
   "outputs": [
    {
     "data": {
      "text/html": [
       "<div>\n",
       "<style scoped>\n",
       "    .dataframe tbody tr th:only-of-type {\n",
       "        vertical-align: middle;\n",
       "    }\n",
       "\n",
       "    .dataframe tbody tr th {\n",
       "        vertical-align: top;\n",
       "    }\n",
       "\n",
       "    .dataframe thead th {\n",
       "        text-align: right;\n",
       "    }\n",
       "</style>\n",
       "<table border=\"1\" class=\"dataframe\">\n",
       "  <thead>\n",
       "    <tr style=\"text-align: right;\">\n",
       "      <th></th>\n",
       "      <th>html</th>\n",
       "      <th>title</th>\n",
       "      <th>link</th>\n",
       "      <th>geo</th>\n",
       "      <th>city</th>\n",
       "      <th>country</th>\n",
       "      <th>latitude</th>\n",
       "      <th>longitude</th>\n",
       "      <th>candidats</th>\n",
       "      <th>employment</th>\n",
       "      <th>company</th>\n",
       "      <th>publication_date</th>\n",
       "      <th>size_field</th>\n",
       "      <th>company_size</th>\n",
       "      <th>company_size_category</th>\n",
       "      <th>field_of_activity</th>\n",
       "      <th>description</th>\n",
       "      <th>skills</th>\n",
       "    </tr>\n",
       "  </thead>\n",
       "  <tbody>\n",
       "    <tr>\n",
       "      <th>134</th>\n",
       "      <td>\\n  &lt;div&gt;\\n    &lt;div class=\"\\n        jobs-deta...</td>\n",
       "      <td>Data Analyst</td>\n",
       "      <td>https://linkedin.com/jobs/view/3258112915/?alt...</td>\n",
       "      <td>Haydock, England, United Kingdom</td>\n",
       "      <td>Haydock</td>\n",
       "      <td>United Kingdom</td>\n",
       "      <td>53.467195</td>\n",
       "      <td>-2.661806</td>\n",
       "      <td>1</td>\n",
       "      <td>On-site</td>\n",
       "      <td>Speedy Services</td>\n",
       "      <td>2022-09-07 15:00:00</td>\n",
       "      <td>1,001-5,000 employees · Retail Office Equipment</td>\n",
       "      <td>1001-5000</td>\n",
       "      <td>large</td>\n",
       "      <td>Retail Office Equipment</td>\n",
       "      <td>Speedy are the UK’s leading hire provider with...</td>\n",
       "      <td>[excel, sql]</td>\n",
       "    </tr>\n",
       "    <tr>\n",
       "      <th>158</th>\n",
       "      <td>\\n  &lt;div&gt;\\n    &lt;div class=\"\\n        jobs-deta...</td>\n",
       "      <td>Internet Analyst</td>\n",
       "      <td>https://linkedin.com/jobs/view/3249279868/?alt...</td>\n",
       "      <td>Trenčín, Trenciansky, Slovakia</td>\n",
       "      <td>Trenčín</td>\n",
       "      <td>Slovakia</td>\n",
       "      <td>48.892358</td>\n",
       "      <td>18.039372</td>\n",
       "      <td>0</td>\n",
       "      <td>Remote</td>\n",
       "      <td>TELUS International AI Data Solutions</td>\n",
       "      <td>2022-09-07 06:00:00</td>\n",
       "      <td>10,001+ employees · IT Services and IT Consulting</td>\n",
       "      <td>10001+</td>\n",
       "      <td>large</td>\n",
       "      <td>IT Services and IT Consulting</td>\n",
       "      <td>TELUS International AI-Data Solutions partners...</td>\n",
       "      <td>[]</td>\n",
       "    </tr>\n",
       "    <tr>\n",
       "      <th>343</th>\n",
       "      <td>\\n  &lt;div&gt;\\n    &lt;div class=\"\\n        jobs-deta...</td>\n",
       "      <td>Internet Analyst | Florence, Italy Metropolita...</td>\n",
       "      <td>https://linkedin.com/jobs/view/3247842966/?alt...</td>\n",
       "      <td>Florence, Italy Metropolitan Area</td>\n",
       "      <td>Florence</td>\n",
       "      <td>Italy</td>\n",
       "      <td>43.808236</td>\n",
       "      <td>11.293806</td>\n",
       "      <td>7</td>\n",
       "      <td>Remote</td>\n",
       "      <td>Appen</td>\n",
       "      <td>2022-09-05 17:00:00</td>\n",
       "      <td>501-1,000 employees · IT Services and IT Consu...</td>\n",
       "      <td>501-1000</td>\n",
       "      <td>small</td>\n",
       "      <td>IT Services and IT Consulting</td>\n",
       "      <td>Good day!\\n\\nAppen is seeking candidates for E...</td>\n",
       "      <td>[excel, ssis]</td>\n",
       "    </tr>\n",
       "    <tr>\n",
       "      <th>19</th>\n",
       "      <td>\\n  &lt;div&gt;\\n    &lt;div class=\"\\n        jobs-deta...</td>\n",
       "      <td>Data Analyst</td>\n",
       "      <td>https://linkedin.com/jobs/view/3257251472/?alt...</td>\n",
       "      <td>Chełm, Lubelskie, Poland</td>\n",
       "      <td>Chełm</td>\n",
       "      <td>Poland</td>\n",
       "      <td>51.135588</td>\n",
       "      <td>23.493937</td>\n",
       "      <td>5</td>\n",
       "      <td>Remote</td>\n",
       "      <td>TELUS International AI Data Solutions</td>\n",
       "      <td>2022-09-07 09:00:00</td>\n",
       "      <td>10,001+ employees · IT Services and IT Consulting</td>\n",
       "      <td>10001+</td>\n",
       "      <td>large</td>\n",
       "      <td>IT Services and IT Consulting</td>\n",
       "      <td>TELUS International AI-Data Solutions partners...</td>\n",
       "      <td>[]</td>\n",
       "    </tr>\n",
       "    <tr>\n",
       "      <th>108</th>\n",
       "      <td>\\n  &lt;div&gt;\\n    &lt;div class=\"\\n        jobs-deta...</td>\n",
       "      <td>STAGE - DATA ANALYST MARKETING F/H</td>\n",
       "      <td>https://linkedin.com/jobs/view/3249413715/?alt...</td>\n",
       "      <td>Bordeaux, Nouvelle-Aquitaine, France</td>\n",
       "      <td>Bordeaux</td>\n",
       "      <td>France</td>\n",
       "      <td>44.841225</td>\n",
       "      <td>-0.580036</td>\n",
       "      <td>6</td>\n",
       "      <td>Hybrid</td>\n",
       "      <td>Cdiscount</td>\n",
       "      <td>2022-09-02 17:00:00</td>\n",
       "      <td>1,001-5,000 employees · Technology, Informatio...</td>\n",
       "      <td>1001-5000</td>\n",
       "      <td>large</td>\n",
       "      <td>Technology, Information and Internet</td>\n",
       "      <td>REJOIGNEZ UN COLLECTIF ANIME PAR LE GOÛT DU DE...</td>\n",
       "      <td>[excel, python, sql, tableau]</td>\n",
       "    </tr>\n",
       "  </tbody>\n",
       "</table>\n",
       "</div>"
      ],
      "text/plain": [
       "                                                  html  \\\n",
       "134  \\n  <div>\\n    <div class=\"\\n        jobs-deta...   \n",
       "158  \\n  <div>\\n    <div class=\"\\n        jobs-deta...   \n",
       "343  \\n  <div>\\n    <div class=\"\\n        jobs-deta...   \n",
       "19   \\n  <div>\\n    <div class=\"\\n        jobs-deta...   \n",
       "108  \\n  <div>\\n    <div class=\"\\n        jobs-deta...   \n",
       "\n",
       "                                                 title  \\\n",
       "134                                       Data Analyst   \n",
       "158                                   Internet Analyst   \n",
       "343  Internet Analyst | Florence, Italy Metropolita...   \n",
       "19                                        Data Analyst   \n",
       "108                 STAGE - DATA ANALYST MARKETING F/H   \n",
       "\n",
       "                                                  link  \\\n",
       "134  https://linkedin.com/jobs/view/3258112915/?alt...   \n",
       "158  https://linkedin.com/jobs/view/3249279868/?alt...   \n",
       "343  https://linkedin.com/jobs/view/3247842966/?alt...   \n",
       "19   https://linkedin.com/jobs/view/3257251472/?alt...   \n",
       "108  https://linkedin.com/jobs/view/3249413715/?alt...   \n",
       "\n",
       "                                      geo      city         country  \\\n",
       "134      Haydock, England, United Kingdom   Haydock  United Kingdom   \n",
       "158        Trenčín, Trenciansky, Slovakia   Trenčín        Slovakia   \n",
       "343     Florence, Italy Metropolitan Area  Florence           Italy   \n",
       "19               Chełm, Lubelskie, Poland     Chełm          Poland   \n",
       "108  Bordeaux, Nouvelle-Aquitaine, France  Bordeaux          France   \n",
       "\n",
       "      latitude  longitude  candidats employment  \\\n",
       "134  53.467195  -2.661806          1    On-site   \n",
       "158  48.892358  18.039372          0     Remote   \n",
       "343  43.808236  11.293806          7     Remote   \n",
       "19   51.135588  23.493937          5     Remote   \n",
       "108  44.841225  -0.580036          6     Hybrid   \n",
       "\n",
       "                                   company    publication_date  \\\n",
       "134                        Speedy Services 2022-09-07 15:00:00   \n",
       "158  TELUS International AI Data Solutions 2022-09-07 06:00:00   \n",
       "343                                  Appen 2022-09-05 17:00:00   \n",
       "19   TELUS International AI Data Solutions 2022-09-07 09:00:00   \n",
       "108                              Cdiscount 2022-09-02 17:00:00   \n",
       "\n",
       "                                            size_field company_size  \\\n",
       "134    1,001-5,000 employees · Retail Office Equipment    1001-5000   \n",
       "158  10,001+ employees · IT Services and IT Consulting       10001+   \n",
       "343  501-1,000 employees · IT Services and IT Consu...     501-1000   \n",
       "19   10,001+ employees · IT Services and IT Consulting       10001+   \n",
       "108  1,001-5,000 employees · Technology, Informatio...    1001-5000   \n",
       "\n",
       "    company_size_category                     field_of_activity  \\\n",
       "134                 large               Retail Office Equipment   \n",
       "158                 large         IT Services and IT Consulting   \n",
       "343                 small         IT Services and IT Consulting   \n",
       "19                  large         IT Services and IT Consulting   \n",
       "108                 large  Technology, Information and Internet   \n",
       "\n",
       "                                           description  \\\n",
       "134  Speedy are the UK’s leading hire provider with...   \n",
       "158  TELUS International AI-Data Solutions partners...   \n",
       "343  Good day!\\n\\nAppen is seeking candidates for E...   \n",
       "19   TELUS International AI-Data Solutions partners...   \n",
       "108  REJOIGNEZ UN COLLECTIF ANIME PAR LE GOÛT DU DE...   \n",
       "\n",
       "                            skills  \n",
       "134                   [excel, sql]  \n",
       "158                             []  \n",
       "343                  [excel, ssis]  \n",
       "19                              []  \n",
       "108  [excel, python, sql, tableau]  "
      ]
     },
     "execution_count": 32,
     "metadata": {},
     "output_type": "execute_result"
    }
   ],
   "source": [
    "# Какие хард скилы требуются дата аналитику - тащим это из описания вакансии, то есть из столбца description\n",
    "skills = (['datahub', 'api', 'github', 'google analytics', 'adobe analytics', 'ibm coremetrics', 'omniture'\n",
    "            'gitlab', 'erwin', 'hadoop', 'spark', 'hive'\n",
    "           'databricks', 'aws', 'gcp', 'azure','excel',\n",
    "            'redshift', 'bigquery', 'snowflake',  'hana'\n",
    "            'grafana', 'kantar', 'spss', \n",
    "           'asana', 'basecamp', 'jira', 'dbeaver','trello', 'miro', 'salesforce', \n",
    "           'rapidminer', 'thoughtspot',  'power point',  'docker', 'jenkins','integrate.io', 'talend', 'apache nifi','aws glue','pentaho','google data flow',\n",
    "             'azure data factory','xplenty','skyvia','iri voracity','xtract.io','dataddo', 'ssis',\n",
    "             'hevo data','informatica','oracle data integrator','k2view','cdata sync','querysurge', \n",
    "             'rivery', 'dbconvert', 'alooma', 'stitch', 'fivetran', 'matillion','streamsets','blendo',\n",
    "             'iri voracity','logstash', 'etleap', 'singer', 'apache camel','actian', 'airflow', 'luidgi', 'datastage',\n",
    "           'python', 'vba', 'scala', ' r ', 'java script', 'julia', 'sql', 'matlab', 'java', 'html', 'c++', 'sas',\n",
    "           'data studio', 'tableau', 'looker', 'powerbi', 'cognos', 'microstrategy', 'spotfire',\n",
    "             'sap business objects','microsoft sql server', 'oracle business intelligence', 'yellowfin',\n",
    "             'webfocus','sas visual analytics', 'targit', 'izenda',  'sisense', 'statsbot', 'panorama', 'inetsoft',\n",
    "             'birst', 'domo', 'metabase', 'redash', 'power bi', 'alteryx', 'dataiku', 'qlik sense', 'qlikview'\n",
    "          ]) \n",
    "def get_skills(cell):\n",
    "    list_skills = []\n",
    "    for skill in skills:\n",
    "        if skill in cell.lower().replace('powerbi', 'power bi'):\n",
    "            list_skills.append(skill)\n",
    "    return list_skills\n",
    "df_sorted['skills'] = df_sorted.description.apply(get_skills)\n",
    "df_sorted.sample(5)"
   ]
  },
  {
   "cell_type": "code",
   "execution_count": 33,
   "metadata": {},
   "outputs": [],
   "source": [
    "# Выгрузим скилы в длинную таблицу\n",
    "df = df_sorted.explode('skills')\n",
    "\n",
    "# Сохраним таблицу для Tableau\n",
    "df[['candidats', 'title', 'city', 'country', 'skills', 'link']].to_csv('ready_ready.csv', index = False)"
   ]
  }
 ],
 "metadata": {
  "kernelspec": {
   "display_name": "Python 3.10.1 64-bit",
   "language": "python",
   "name": "python3"
  },
  "language_info": {
   "codemirror_mode": {
    "name": "ipython",
    "version": 3
   },
   "file_extension": ".py",
   "mimetype": "text/x-python",
   "name": "python",
   "nbconvert_exporter": "python",
   "pygments_lexer": "ipython3",
   "version": "3.10.1"
  },
  "toc": {
   "base_numbering": 1,
   "nav_menu": {},
   "number_sections": true,
   "sideBar": true,
   "skip_h1_title": false,
   "title_cell": "Table of Contents",
   "title_sidebar": "Contents",
   "toc_cell": false,
   "toc_position": {},
   "toc_section_display": true,
   "toc_window_display": false
  },
  "vscode": {
   "interpreter": {
    "hash": "e7d4d1fdefab968d87dae697830712be305784682ed311731942beb8000e292d"
   }
  }
 },
 "nbformat": 4,
 "nbformat_minor": 2
}
